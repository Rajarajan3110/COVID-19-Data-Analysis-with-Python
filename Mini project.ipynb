{
 "cells": [
  {
   "cell_type": "markdown",
   "metadata": {},
   "source": [
    "# IMPORTING LIBRARIES"
   ]
  },
  {
   "cell_type": "code",
   "execution_count": 1,
   "metadata": {},
   "outputs": [],
   "source": [
    "import numpy as np\n",
    "import pandas as pd\n",
    "import matplotlib.pyplot as plt\n",
    "import folium\n",
    "import seaborn as sns\n",
    "import re\n",
    "\n",
    "%matplotlib inline\n",
    "\n"
   ]
  },
  {
   "cell_type": "code",
   "execution_count": 2,
   "metadata": {},
   "outputs": [],
   "source": [
    "df = pd.read_csv('project time_series_covid_19_confirmed.csv')\n",
    "df1 = df.copy()"
   ]
  },
  {
   "cell_type": "code",
   "execution_count": 3,
   "metadata": {},
   "outputs": [
    {
     "data": {
      "text/html": [
       "<div>\n",
       "<style scoped>\n",
       "    .dataframe tbody tr th:only-of-type {\n",
       "        vertical-align: middle;\n",
       "    }\n",
       "\n",
       "    .dataframe tbody tr th {\n",
       "        vertical-align: top;\n",
       "    }\n",
       "\n",
       "    .dataframe thead th {\n",
       "        text-align: right;\n",
       "    }\n",
       "</style>\n",
       "<table border=\"1\" class=\"dataframe\">\n",
       "  <thead>\n",
       "    <tr style=\"text-align: right;\">\n",
       "      <th></th>\n",
       "      <th>Province/State</th>\n",
       "      <th>Country/Region</th>\n",
       "      <th>Lat</th>\n",
       "      <th>Long</th>\n",
       "      <th>1/22/20</th>\n",
       "      <th>1/23/20</th>\n",
       "      <th>1/24/20</th>\n",
       "      <th>1/25/20</th>\n",
       "      <th>1/26/20</th>\n",
       "      <th>1/27/20</th>\n",
       "      <th>...</th>\n",
       "      <th>8/3/20</th>\n",
       "      <th>8/4/20</th>\n",
       "      <th>8/5/20</th>\n",
       "      <th>8/6/20</th>\n",
       "      <th>8/7/20</th>\n",
       "      <th>8/8/20</th>\n",
       "      <th>8/9/20</th>\n",
       "      <th>8/10/20</th>\n",
       "      <th>8/11/20</th>\n",
       "      <th>8/12/20</th>\n",
       "    </tr>\n",
       "  </thead>\n",
       "  <tbody>\n",
       "    <tr>\n",
       "      <th>0</th>\n",
       "      <td>NaN</td>\n",
       "      <td>Afghanistan</td>\n",
       "      <td>33.93911</td>\n",
       "      <td>67.709953</td>\n",
       "      <td>0</td>\n",
       "      <td>0</td>\n",
       "      <td>0</td>\n",
       "      <td>0</td>\n",
       "      <td>0</td>\n",
       "      <td>0</td>\n",
       "      <td>...</td>\n",
       "      <td>36747</td>\n",
       "      <td>36782</td>\n",
       "      <td>36829</td>\n",
       "      <td>36896</td>\n",
       "      <td>37015</td>\n",
       "      <td>37054</td>\n",
       "      <td>37054</td>\n",
       "      <td>37162</td>\n",
       "      <td>37269</td>\n",
       "      <td>37345</td>\n",
       "    </tr>\n",
       "    <tr>\n",
       "      <th>1</th>\n",
       "      <td>NaN</td>\n",
       "      <td>Albania</td>\n",
       "      <td>41.15330</td>\n",
       "      <td>20.168300</td>\n",
       "      <td>0</td>\n",
       "      <td>0</td>\n",
       "      <td>0</td>\n",
       "      <td>0</td>\n",
       "      <td>0</td>\n",
       "      <td>0</td>\n",
       "      <td>...</td>\n",
       "      <td>5620</td>\n",
       "      <td>5750</td>\n",
       "      <td>5889</td>\n",
       "      <td>6016</td>\n",
       "      <td>6151</td>\n",
       "      <td>6275</td>\n",
       "      <td>6411</td>\n",
       "      <td>6536</td>\n",
       "      <td>6676</td>\n",
       "      <td>6817</td>\n",
       "    </tr>\n",
       "  </tbody>\n",
       "</table>\n",
       "<p>2 rows × 208 columns</p>\n",
       "</div>"
      ],
      "text/plain": [
       "  Province/State Country/Region       Lat       Long  1/22/20  1/23/20  \\\n",
       "0            NaN    Afghanistan  33.93911  67.709953        0        0   \n",
       "1            NaN        Albania  41.15330  20.168300        0        0   \n",
       "\n",
       "   1/24/20  1/25/20  1/26/20  1/27/20  ...  8/3/20  8/4/20  8/5/20  8/6/20  \\\n",
       "0        0        0        0        0  ...   36747   36782   36829   36896   \n",
       "1        0        0        0        0  ...    5620    5750    5889    6016   \n",
       "\n",
       "   8/7/20  8/8/20  8/9/20  8/10/20  8/11/20  8/12/20  \n",
       "0   37015   37054   37054    37162    37269    37345  \n",
       "1    6151    6275    6411     6536     6676     6817  \n",
       "\n",
       "[2 rows x 208 columns]"
      ]
     },
     "execution_count": 3,
     "metadata": {},
     "output_type": "execute_result"
    }
   ],
   "source": [
    "df1.head(2)"
   ]
  },
  {
   "cell_type": "code",
   "execution_count": 4,
   "metadata": {},
   "outputs": [
    {
     "data": {
      "text/plain": [
       "(266, 208)"
      ]
     },
     "execution_count": 4,
     "metadata": {},
     "output_type": "execute_result"
    }
   ],
   "source": [
    "df1.shape"
   ]
  },
  {
   "cell_type": "code",
   "execution_count": 5,
   "metadata": {},
   "outputs": [],
   "source": [
    "df1.drop(['Province/State','Lat','Long'], inplace= True, axis = 1)"
   ]
  },
  {
   "cell_type": "code",
   "execution_count": 6,
   "metadata": {
    "scrolled": true
   },
   "outputs": [
    {
     "data": {
      "text/html": [
       "<div>\n",
       "<style scoped>\n",
       "    .dataframe tbody tr th:only-of-type {\n",
       "        vertical-align: middle;\n",
       "    }\n",
       "\n",
       "    .dataframe tbody tr th {\n",
       "        vertical-align: top;\n",
       "    }\n",
       "\n",
       "    .dataframe thead th {\n",
       "        text-align: right;\n",
       "    }\n",
       "</style>\n",
       "<table border=\"1\" class=\"dataframe\">\n",
       "  <thead>\n",
       "    <tr style=\"text-align: right;\">\n",
       "      <th></th>\n",
       "      <th>Country/Region</th>\n",
       "      <th>1/22/20</th>\n",
       "      <th>1/23/20</th>\n",
       "      <th>1/24/20</th>\n",
       "      <th>1/25/20</th>\n",
       "      <th>1/26/20</th>\n",
       "      <th>1/27/20</th>\n",
       "      <th>1/28/20</th>\n",
       "      <th>1/29/20</th>\n",
       "      <th>1/30/20</th>\n",
       "      <th>...</th>\n",
       "      <th>8/3/20</th>\n",
       "      <th>8/4/20</th>\n",
       "      <th>8/5/20</th>\n",
       "      <th>8/6/20</th>\n",
       "      <th>8/7/20</th>\n",
       "      <th>8/8/20</th>\n",
       "      <th>8/9/20</th>\n",
       "      <th>8/10/20</th>\n",
       "      <th>8/11/20</th>\n",
       "      <th>8/12/20</th>\n",
       "    </tr>\n",
       "  </thead>\n",
       "  <tbody>\n",
       "    <tr>\n",
       "      <th>0</th>\n",
       "      <td>Afghanistan</td>\n",
       "      <td>0</td>\n",
       "      <td>0</td>\n",
       "      <td>0</td>\n",
       "      <td>0</td>\n",
       "      <td>0</td>\n",
       "      <td>0</td>\n",
       "      <td>0</td>\n",
       "      <td>0</td>\n",
       "      <td>0</td>\n",
       "      <td>...</td>\n",
       "      <td>36747</td>\n",
       "      <td>36782</td>\n",
       "      <td>36829</td>\n",
       "      <td>36896</td>\n",
       "      <td>37015</td>\n",
       "      <td>37054</td>\n",
       "      <td>37054</td>\n",
       "      <td>37162</td>\n",
       "      <td>37269</td>\n",
       "      <td>37345</td>\n",
       "    </tr>\n",
       "    <tr>\n",
       "      <th>1</th>\n",
       "      <td>Albania</td>\n",
       "      <td>0</td>\n",
       "      <td>0</td>\n",
       "      <td>0</td>\n",
       "      <td>0</td>\n",
       "      <td>0</td>\n",
       "      <td>0</td>\n",
       "      <td>0</td>\n",
       "      <td>0</td>\n",
       "      <td>0</td>\n",
       "      <td>...</td>\n",
       "      <td>5620</td>\n",
       "      <td>5750</td>\n",
       "      <td>5889</td>\n",
       "      <td>6016</td>\n",
       "      <td>6151</td>\n",
       "      <td>6275</td>\n",
       "      <td>6411</td>\n",
       "      <td>6536</td>\n",
       "      <td>6676</td>\n",
       "      <td>6817</td>\n",
       "    </tr>\n",
       "  </tbody>\n",
       "</table>\n",
       "<p>2 rows × 205 columns</p>\n",
       "</div>"
      ],
      "text/plain": [
       "  Country/Region  1/22/20  1/23/20  1/24/20  1/25/20  1/26/20  1/27/20  \\\n",
       "0    Afghanistan        0        0        0        0        0        0   \n",
       "1        Albania        0        0        0        0        0        0   \n",
       "\n",
       "   1/28/20  1/29/20  1/30/20  ...  8/3/20  8/4/20  8/5/20  8/6/20  8/7/20  \\\n",
       "0        0        0        0  ...   36747   36782   36829   36896   37015   \n",
       "1        0        0        0  ...    5620    5750    5889    6016    6151   \n",
       "\n",
       "   8/8/20  8/9/20  8/10/20  8/11/20  8/12/20  \n",
       "0   37054   37054    37162    37269    37345  \n",
       "1    6275    6411     6536     6676     6817  \n",
       "\n",
       "[2 rows x 205 columns]"
      ]
     },
     "execution_count": 6,
     "metadata": {},
     "output_type": "execute_result"
    }
   ],
   "source": [
    "df1.head(2)"
   ]
  },
  {
   "cell_type": "code",
   "execution_count": 7,
   "metadata": {},
   "outputs": [
    {
     "name": "stdout",
     "output_type": "stream",
     "text": [
      "<class 'pandas.core.frame.DataFrame'>\n",
      "RangeIndex: 266 entries, 0 to 265\n",
      "Columns: 205 entries, Country/Region to 8/12/20\n",
      "dtypes: int64(204), object(1)\n",
      "memory usage: 426.1+ KB\n"
     ]
    }
   ],
   "source": [
    "df1.info() #verifying datatypes"
   ]
  },
  {
   "cell_type": "code",
   "execution_count": 8,
   "metadata": {},
   "outputs": [
    {
     "data": {
      "text/plain": [
       "(266, 205)"
      ]
     },
     "execution_count": 8,
     "metadata": {},
     "output_type": "execute_result"
    }
   ],
   "source": [
    "df1.shape "
   ]
  },
  {
   "cell_type": "code",
   "execution_count": 9,
   "metadata": {},
   "outputs": [
    {
     "data": {
      "text/html": [
       "<div>\n",
       "<style scoped>\n",
       "    .dataframe tbody tr th:only-of-type {\n",
       "        vertical-align: middle;\n",
       "    }\n",
       "\n",
       "    .dataframe tbody tr th {\n",
       "        vertical-align: top;\n",
       "    }\n",
       "\n",
       "    .dataframe thead th {\n",
       "        text-align: right;\n",
       "    }\n",
       "</style>\n",
       "<table border=\"1\" class=\"dataframe\">\n",
       "  <thead>\n",
       "    <tr style=\"text-align: right;\">\n",
       "      <th></th>\n",
       "      <th>1/22/20</th>\n",
       "      <th>1/23/20</th>\n",
       "      <th>1/24/20</th>\n",
       "      <th>1/25/20</th>\n",
       "      <th>1/26/20</th>\n",
       "      <th>1/27/20</th>\n",
       "      <th>1/28/20</th>\n",
       "      <th>1/29/20</th>\n",
       "      <th>1/30/20</th>\n",
       "      <th>1/31/20</th>\n",
       "      <th>...</th>\n",
       "      <th>8/3/20</th>\n",
       "      <th>8/4/20</th>\n",
       "      <th>8/5/20</th>\n",
       "      <th>8/6/20</th>\n",
       "      <th>8/7/20</th>\n",
       "      <th>8/8/20</th>\n",
       "      <th>8/9/20</th>\n",
       "      <th>8/10/20</th>\n",
       "      <th>8/11/20</th>\n",
       "      <th>8/12/20</th>\n",
       "    </tr>\n",
       "    <tr>\n",
       "      <th>Country/Region</th>\n",
       "      <th></th>\n",
       "      <th></th>\n",
       "      <th></th>\n",
       "      <th></th>\n",
       "      <th></th>\n",
       "      <th></th>\n",
       "      <th></th>\n",
       "      <th></th>\n",
       "      <th></th>\n",
       "      <th></th>\n",
       "      <th></th>\n",
       "      <th></th>\n",
       "      <th></th>\n",
       "      <th></th>\n",
       "      <th></th>\n",
       "      <th></th>\n",
       "      <th></th>\n",
       "      <th></th>\n",
       "      <th></th>\n",
       "      <th></th>\n",
       "      <th></th>\n",
       "    </tr>\n",
       "  </thead>\n",
       "  <tbody>\n",
       "    <tr>\n",
       "      <th>Afghanistan</th>\n",
       "      <td>0</td>\n",
       "      <td>0</td>\n",
       "      <td>0</td>\n",
       "      <td>0</td>\n",
       "      <td>0</td>\n",
       "      <td>0</td>\n",
       "      <td>0</td>\n",
       "      <td>0</td>\n",
       "      <td>0</td>\n",
       "      <td>0</td>\n",
       "      <td>...</td>\n",
       "      <td>36747</td>\n",
       "      <td>36782</td>\n",
       "      <td>36829</td>\n",
       "      <td>36896</td>\n",
       "      <td>37015</td>\n",
       "      <td>37054</td>\n",
       "      <td>37054</td>\n",
       "      <td>37162</td>\n",
       "      <td>37269</td>\n",
       "      <td>37345</td>\n",
       "    </tr>\n",
       "    <tr>\n",
       "      <th>Albania</th>\n",
       "      <td>0</td>\n",
       "      <td>0</td>\n",
       "      <td>0</td>\n",
       "      <td>0</td>\n",
       "      <td>0</td>\n",
       "      <td>0</td>\n",
       "      <td>0</td>\n",
       "      <td>0</td>\n",
       "      <td>0</td>\n",
       "      <td>0</td>\n",
       "      <td>...</td>\n",
       "      <td>5620</td>\n",
       "      <td>5750</td>\n",
       "      <td>5889</td>\n",
       "      <td>6016</td>\n",
       "      <td>6151</td>\n",
       "      <td>6275</td>\n",
       "      <td>6411</td>\n",
       "      <td>6536</td>\n",
       "      <td>6676</td>\n",
       "      <td>6817</td>\n",
       "    </tr>\n",
       "  </tbody>\n",
       "</table>\n",
       "<p>2 rows × 204 columns</p>\n",
       "</div>"
      ],
      "text/plain": [
       "                1/22/20  1/23/20  1/24/20  1/25/20  1/26/20  1/27/20  1/28/20  \\\n",
       "Country/Region                                                                  \n",
       "Afghanistan           0        0        0        0        0        0        0   \n",
       "Albania               0        0        0        0        0        0        0   \n",
       "\n",
       "                1/29/20  1/30/20  1/31/20  ...  8/3/20  8/4/20  8/5/20  \\\n",
       "Country/Region                             ...                           \n",
       "Afghanistan           0        0        0  ...   36747   36782   36829   \n",
       "Albania               0        0        0  ...    5620    5750    5889   \n",
       "\n",
       "                8/6/20  8/7/20  8/8/20  8/9/20  8/10/20  8/11/20  8/12/20  \n",
       "Country/Region                                                             \n",
       "Afghanistan      36896   37015   37054   37054    37162    37269    37345  \n",
       "Albania           6016    6151    6275    6411     6536     6676     6817  \n",
       "\n",
       "[2 rows x 204 columns]"
      ]
     },
     "execution_count": 9,
     "metadata": {},
     "output_type": "execute_result"
    }
   ],
   "source": [
    "df1 = df1.groupby(['Country/Region']).agg(sum) #groupby using 'Country/Region' and sum all rows using agg()\n",
    "df1.head(2)"
   ]
  },
  {
   "cell_type": "code",
   "execution_count": 10,
   "metadata": {},
   "outputs": [
    {
     "data": {
      "text/plain": [
       "(188, 204)"
      ]
     },
     "execution_count": 10,
     "metadata": {},
     "output_type": "execute_result"
    }
   ],
   "source": [
    "df1.shape"
   ]
  },
  {
   "cell_type": "markdown",
   "metadata": {},
   "source": [
    "# SECTION 2 "
   ]
  },
  {
   "cell_type": "code",
   "execution_count": 11,
   "metadata": {
    "scrolled": true
   },
   "outputs": [
    {
     "data": {
      "text/html": [
       "<div>\n",
       "<style scoped>\n",
       "    .dataframe tbody tr th:only-of-type {\n",
       "        vertical-align: middle;\n",
       "    }\n",
       "\n",
       "    .dataframe tbody tr th {\n",
       "        vertical-align: top;\n",
       "    }\n",
       "\n",
       "    .dataframe thead th {\n",
       "        text-align: right;\n",
       "    }\n",
       "</style>\n",
       "<table border=\"1\" class=\"dataframe\">\n",
       "  <thead>\n",
       "    <tr style=\"text-align: right;\">\n",
       "      <th></th>\n",
       "      <th>1/22/20</th>\n",
       "      <th>1/23/20</th>\n",
       "      <th>1/24/20</th>\n",
       "      <th>1/25/20</th>\n",
       "      <th>1/26/20</th>\n",
       "      <th>1/27/20</th>\n",
       "      <th>1/28/20</th>\n",
       "      <th>1/29/20</th>\n",
       "      <th>1/30/20</th>\n",
       "      <th>1/31/20</th>\n",
       "      <th>...</th>\n",
       "      <th>8/3/20</th>\n",
       "      <th>8/4/20</th>\n",
       "      <th>8/5/20</th>\n",
       "      <th>8/6/20</th>\n",
       "      <th>8/7/20</th>\n",
       "      <th>8/8/20</th>\n",
       "      <th>8/9/20</th>\n",
       "      <th>8/10/20</th>\n",
       "      <th>8/11/20</th>\n",
       "      <th>8/12/20</th>\n",
       "    </tr>\n",
       "    <tr>\n",
       "      <th>Country/Region</th>\n",
       "      <th></th>\n",
       "      <th></th>\n",
       "      <th></th>\n",
       "      <th></th>\n",
       "      <th></th>\n",
       "      <th></th>\n",
       "      <th></th>\n",
       "      <th></th>\n",
       "      <th></th>\n",
       "      <th></th>\n",
       "      <th></th>\n",
       "      <th></th>\n",
       "      <th></th>\n",
       "      <th></th>\n",
       "      <th></th>\n",
       "      <th></th>\n",
       "      <th></th>\n",
       "      <th></th>\n",
       "      <th></th>\n",
       "      <th></th>\n",
       "      <th></th>\n",
       "    </tr>\n",
       "  </thead>\n",
       "  <tbody>\n",
       "    <tr>\n",
       "      <th>Afghanistan</th>\n",
       "      <td>0</td>\n",
       "      <td>0</td>\n",
       "      <td>0</td>\n",
       "      <td>0</td>\n",
       "      <td>0</td>\n",
       "      <td>0</td>\n",
       "      <td>0</td>\n",
       "      <td>0</td>\n",
       "      <td>0</td>\n",
       "      <td>0</td>\n",
       "      <td>...</td>\n",
       "      <td>36747</td>\n",
       "      <td>36782</td>\n",
       "      <td>36829</td>\n",
       "      <td>36896</td>\n",
       "      <td>37015</td>\n",
       "      <td>37054</td>\n",
       "      <td>37054</td>\n",
       "      <td>37162</td>\n",
       "      <td>37269</td>\n",
       "      <td>37345</td>\n",
       "    </tr>\n",
       "    <tr>\n",
       "      <th>Albania</th>\n",
       "      <td>0</td>\n",
       "      <td>0</td>\n",
       "      <td>0</td>\n",
       "      <td>0</td>\n",
       "      <td>0</td>\n",
       "      <td>0</td>\n",
       "      <td>0</td>\n",
       "      <td>0</td>\n",
       "      <td>0</td>\n",
       "      <td>0</td>\n",
       "      <td>...</td>\n",
       "      <td>5620</td>\n",
       "      <td>5750</td>\n",
       "      <td>5889</td>\n",
       "      <td>6016</td>\n",
       "      <td>6151</td>\n",
       "      <td>6275</td>\n",
       "      <td>6411</td>\n",
       "      <td>6536</td>\n",
       "      <td>6676</td>\n",
       "      <td>6817</td>\n",
       "    </tr>\n",
       "  </tbody>\n",
       "</table>\n",
       "<p>2 rows × 204 columns</p>\n",
       "</div>"
      ],
      "text/plain": [
       "                1/22/20  1/23/20  1/24/20  1/25/20  1/26/20  1/27/20  1/28/20  \\\n",
       "Country/Region                                                                  \n",
       "Afghanistan           0        0        0        0        0        0        0   \n",
       "Albania               0        0        0        0        0        0        0   \n",
       "\n",
       "                1/29/20  1/30/20  1/31/20  ...  8/3/20  8/4/20  8/5/20  \\\n",
       "Country/Region                             ...                           \n",
       "Afghanistan           0        0        0  ...   36747   36782   36829   \n",
       "Albania               0        0        0  ...    5620    5750    5889   \n",
       "\n",
       "                8/6/20  8/7/20  8/8/20  8/9/20  8/10/20  8/11/20  8/12/20  \n",
       "Country/Region                                                             \n",
       "Afghanistan      36896   37015   37054   37054    37162    37269    37345  \n",
       "Albania           6016    6151    6275    6411     6536     6676     6817  \n",
       "\n",
       "[2 rows x 204 columns]"
      ]
     },
     "execution_count": 11,
     "metadata": {},
     "output_type": "execute_result"
    }
   ],
   "source": [
    "df2 = df1.copy()\n",
    "df2.head(2)"
   ]
  },
  {
   "cell_type": "code",
   "execution_count": 12,
   "metadata": {},
   "outputs": [
    {
     "data": {
      "text/html": [
       "<div>\n",
       "<style scoped>\n",
       "    .dataframe tbody tr th:only-of-type {\n",
       "        vertical-align: middle;\n",
       "    }\n",
       "\n",
       "    .dataframe tbody tr th {\n",
       "        vertical-align: top;\n",
       "    }\n",
       "\n",
       "    .dataframe thead th {\n",
       "        text-align: right;\n",
       "    }\n",
       "</style>\n",
       "<table border=\"1\" class=\"dataframe\">\n",
       "  <thead>\n",
       "    <tr style=\"text-align: right;\">\n",
       "      <th></th>\n",
       "      <th>1/22/20</th>\n",
       "      <th>1/23/20</th>\n",
       "      <th>1/24/20</th>\n",
       "      <th>1/25/20</th>\n",
       "      <th>1/26/20</th>\n",
       "      <th>1/27/20</th>\n",
       "      <th>1/28/20</th>\n",
       "      <th>1/29/20</th>\n",
       "      <th>1/30/20</th>\n",
       "      <th>1/31/20</th>\n",
       "      <th>...</th>\n",
       "      <th>8/4/20</th>\n",
       "      <th>8/5/20</th>\n",
       "      <th>8/6/20</th>\n",
       "      <th>8/7/20</th>\n",
       "      <th>8/8/20</th>\n",
       "      <th>8/9/20</th>\n",
       "      <th>8/10/20</th>\n",
       "      <th>8/11/20</th>\n",
       "      <th>8/12/20</th>\n",
       "      <th>max_infection_rate</th>\n",
       "    </tr>\n",
       "    <tr>\n",
       "      <th>Country/Region</th>\n",
       "      <th></th>\n",
       "      <th></th>\n",
       "      <th></th>\n",
       "      <th></th>\n",
       "      <th></th>\n",
       "      <th></th>\n",
       "      <th></th>\n",
       "      <th></th>\n",
       "      <th></th>\n",
       "      <th></th>\n",
       "      <th></th>\n",
       "      <th></th>\n",
       "      <th></th>\n",
       "      <th></th>\n",
       "      <th></th>\n",
       "      <th></th>\n",
       "      <th></th>\n",
       "      <th></th>\n",
       "      <th></th>\n",
       "      <th></th>\n",
       "      <th></th>\n",
       "    </tr>\n",
       "  </thead>\n",
       "  <tbody>\n",
       "    <tr>\n",
       "      <th>Afghanistan</th>\n",
       "      <td>0</td>\n",
       "      <td>0</td>\n",
       "      <td>0</td>\n",
       "      <td>0</td>\n",
       "      <td>0</td>\n",
       "      <td>0</td>\n",
       "      <td>0</td>\n",
       "      <td>0</td>\n",
       "      <td>0</td>\n",
       "      <td>0</td>\n",
       "      <td>...</td>\n",
       "      <td>36782</td>\n",
       "      <td>36829</td>\n",
       "      <td>36896</td>\n",
       "      <td>37015</td>\n",
       "      <td>37054</td>\n",
       "      <td>37054</td>\n",
       "      <td>37162</td>\n",
       "      <td>37269</td>\n",
       "      <td>37345</td>\n",
       "      <td>915.0</td>\n",
       "    </tr>\n",
       "    <tr>\n",
       "      <th>Albania</th>\n",
       "      <td>0</td>\n",
       "      <td>0</td>\n",
       "      <td>0</td>\n",
       "      <td>0</td>\n",
       "      <td>0</td>\n",
       "      <td>0</td>\n",
       "      <td>0</td>\n",
       "      <td>0</td>\n",
       "      <td>0</td>\n",
       "      <td>0</td>\n",
       "      <td>...</td>\n",
       "      <td>5750</td>\n",
       "      <td>5889</td>\n",
       "      <td>6016</td>\n",
       "      <td>6151</td>\n",
       "      <td>6275</td>\n",
       "      <td>6411</td>\n",
       "      <td>6536</td>\n",
       "      <td>6676</td>\n",
       "      <td>6817</td>\n",
       "      <td>141.0</td>\n",
       "    </tr>\n",
       "  </tbody>\n",
       "</table>\n",
       "<p>2 rows × 205 columns</p>\n",
       "</div>"
      ],
      "text/plain": [
       "                1/22/20  1/23/20  1/24/20  1/25/20  1/26/20  1/27/20  1/28/20  \\\n",
       "Country/Region                                                                  \n",
       "Afghanistan           0        0        0        0        0        0        0   \n",
       "Albania               0        0        0        0        0        0        0   \n",
       "\n",
       "                1/29/20  1/30/20  1/31/20  ...  8/4/20  8/5/20  8/6/20  \\\n",
       "Country/Region                             ...                           \n",
       "Afghanistan           0        0        0  ...   36782   36829   36896   \n",
       "Albania               0        0        0  ...    5750    5889    6016   \n",
       "\n",
       "                8/7/20  8/8/20  8/9/20  8/10/20  8/11/20  8/12/20  \\\n",
       "Country/Region                                                      \n",
       "Afghanistan      37015   37054   37054    37162    37269    37345   \n",
       "Albania           6151    6275    6411     6536     6676     6817   \n",
       "\n",
       "                max_infection_rate  \n",
       "Country/Region                      \n",
       "Afghanistan                  915.0  \n",
       "Albania                      141.0  \n",
       "\n",
       "[2 rows x 205 columns]"
      ]
     },
     "execution_count": 12,
     "metadata": {},
     "output_type": "execute_result"
    }
   ],
   "source": [
    "df2['max_infection_rate'] = df2.diff(axis = 1).max(axis = 1).to_frame() #using diff() to find difference between values in columns\n",
    "df2.head(2)"
   ]
  },
  {
   "cell_type": "code",
   "execution_count": 13,
   "metadata": {},
   "outputs": [
    {
     "data": {
      "text/html": [
       "<div>\n",
       "<style scoped>\n",
       "    .dataframe tbody tr th:only-of-type {\n",
       "        vertical-align: middle;\n",
       "    }\n",
       "\n",
       "    .dataframe tbody tr th {\n",
       "        vertical-align: top;\n",
       "    }\n",
       "\n",
       "    .dataframe thead th {\n",
       "        text-align: right;\n",
       "    }\n",
       "</style>\n",
       "<table border=\"1\" class=\"dataframe\">\n",
       "  <thead>\n",
       "    <tr style=\"text-align: right;\">\n",
       "      <th></th>\n",
       "      <th>max_infection_rate</th>\n",
       "    </tr>\n",
       "    <tr>\n",
       "      <th>Country/Region</th>\n",
       "      <th></th>\n",
       "    </tr>\n",
       "  </thead>\n",
       "  <tbody>\n",
       "    <tr>\n",
       "      <th>Afghanistan</th>\n",
       "      <td>915.0</td>\n",
       "    </tr>\n",
       "    <tr>\n",
       "      <th>Albania</th>\n",
       "      <td>141.0</td>\n",
       "    </tr>\n",
       "    <tr>\n",
       "      <th>Algeria</th>\n",
       "      <td>675.0</td>\n",
       "    </tr>\n",
       "  </tbody>\n",
       "</table>\n",
       "</div>"
      ],
      "text/plain": [
       "                max_infection_rate\n",
       "Country/Region                    \n",
       "Afghanistan                  915.0\n",
       "Albania                      141.0\n",
       "Algeria                      675.0"
      ]
     },
     "execution_count": 13,
     "metadata": {},
     "output_type": "execute_result"
    }
   ],
   "source": [
    "corona_data = df2[['max_infection_rate']] #creating new dataframe as 'corona_data' using max_infection_rate column\n",
    "corona_data.head(3)"
   ]
  },
  {
   "cell_type": "code",
   "execution_count": 14,
   "metadata": {},
   "outputs": [
    {
     "data": {
      "text/plain": [
       "(188, 1)"
      ]
     },
     "execution_count": 14,
     "metadata": {},
     "output_type": "execute_result"
    }
   ],
   "source": [
    "corona_data.shape"
   ]
  },
  {
   "cell_type": "markdown",
   "metadata": {},
   "source": [
    "# SECTION 4"
   ]
  },
  {
   "cell_type": "code",
   "execution_count": 15,
   "metadata": {},
   "outputs": [
    {
     "data": {
      "text/html": [
       "<div>\n",
       "<style scoped>\n",
       "    .dataframe tbody tr th:only-of-type {\n",
       "        vertical-align: middle;\n",
       "    }\n",
       "\n",
       "    .dataframe tbody tr th {\n",
       "        vertical-align: top;\n",
       "    }\n",
       "\n",
       "    .dataframe thead th {\n",
       "        text-align: right;\n",
       "    }\n",
       "</style>\n",
       "<table border=\"1\" class=\"dataframe\">\n",
       "  <thead>\n",
       "    <tr style=\"text-align: right;\">\n",
       "      <th></th>\n",
       "      <th>Overall rank</th>\n",
       "      <th>Country or region</th>\n",
       "      <th>Score</th>\n",
       "      <th>GDP per capita</th>\n",
       "      <th>Social support</th>\n",
       "      <th>Healthy life expectancy</th>\n",
       "      <th>Freedom to make life choices</th>\n",
       "      <th>Generosity</th>\n",
       "      <th>Perceptions of corruption</th>\n",
       "    </tr>\n",
       "  </thead>\n",
       "  <tbody>\n",
       "    <tr>\n",
       "      <th>0</th>\n",
       "      <td>1</td>\n",
       "      <td>Finland</td>\n",
       "      <td>7.769</td>\n",
       "      <td>1.340</td>\n",
       "      <td>1.587</td>\n",
       "      <td>0.986</td>\n",
       "      <td>0.596</td>\n",
       "      <td>0.153</td>\n",
       "      <td>0.393</td>\n",
       "    </tr>\n",
       "    <tr>\n",
       "      <th>1</th>\n",
       "      <td>2</td>\n",
       "      <td>Denmark</td>\n",
       "      <td>7.600</td>\n",
       "      <td>1.383</td>\n",
       "      <td>1.573</td>\n",
       "      <td>0.996</td>\n",
       "      <td>0.592</td>\n",
       "      <td>0.252</td>\n",
       "      <td>0.410</td>\n",
       "    </tr>\n",
       "    <tr>\n",
       "      <th>2</th>\n",
       "      <td>3</td>\n",
       "      <td>Norway</td>\n",
       "      <td>7.554</td>\n",
       "      <td>1.488</td>\n",
       "      <td>1.582</td>\n",
       "      <td>1.028</td>\n",
       "      <td>0.603</td>\n",
       "      <td>0.271</td>\n",
       "      <td>0.341</td>\n",
       "    </tr>\n",
       "  </tbody>\n",
       "</table>\n",
       "</div>"
      ],
      "text/plain": [
       "   Overall rank Country or region  Score  GDP per capita  Social support  \\\n",
       "0             1           Finland  7.769           1.340           1.587   \n",
       "1             2           Denmark  7.600           1.383           1.573   \n",
       "2             3            Norway  7.554           1.488           1.582   \n",
       "\n",
       "   Healthy life expectancy  Freedom to make life choices  Generosity  \\\n",
       "0                    0.986                         0.596       0.153   \n",
       "1                    0.996                         0.592       0.252   \n",
       "2                    1.028                         0.603       0.271   \n",
       "\n",
       "   Perceptions of corruption  \n",
       "0                      0.393  \n",
       "1                      0.410  \n",
       "2                      0.341  "
      ]
     },
     "execution_count": 15,
     "metadata": {},
     "output_type": "execute_result"
    }
   ],
   "source": [
    "happiness_report = pd.read_csv('projecct worldwide_happiness_report.csv') #reading csv file\n",
    "happiness_report.head(3)"
   ]
  },
  {
   "cell_type": "code",
   "execution_count": 16,
   "metadata": {},
   "outputs": [
    {
     "data": {
      "text/html": [
       "<div>\n",
       "<style scoped>\n",
       "    .dataframe tbody tr th:only-of-type {\n",
       "        vertical-align: middle;\n",
       "    }\n",
       "\n",
       "    .dataframe tbody tr th {\n",
       "        vertical-align: top;\n",
       "    }\n",
       "\n",
       "    .dataframe thead th {\n",
       "        text-align: right;\n",
       "    }\n",
       "</style>\n",
       "<table border=\"1\" class=\"dataframe\">\n",
       "  <thead>\n",
       "    <tr style=\"text-align: right;\">\n",
       "      <th></th>\n",
       "      <th>Overall rank</th>\n",
       "      <th>Country or region</th>\n",
       "      <th>Score</th>\n",
       "      <th>GDP per capita</th>\n",
       "      <th>Social support</th>\n",
       "      <th>Healthy life expectancy</th>\n",
       "      <th>Freedom to make life choices</th>\n",
       "      <th>Generosity</th>\n",
       "      <th>Perceptions of corruption</th>\n",
       "    </tr>\n",
       "  </thead>\n",
       "  <tbody>\n",
       "    <tr>\n",
       "      <th>0</th>\n",
       "      <td>1</td>\n",
       "      <td>Finland</td>\n",
       "      <td>7.769</td>\n",
       "      <td>1.340</td>\n",
       "      <td>1.587</td>\n",
       "      <td>0.986</td>\n",
       "      <td>0.596</td>\n",
       "      <td>0.153</td>\n",
       "      <td>0.393</td>\n",
       "    </tr>\n",
       "    <tr>\n",
       "      <th>1</th>\n",
       "      <td>2</td>\n",
       "      <td>Denmark</td>\n",
       "      <td>7.600</td>\n",
       "      <td>1.383</td>\n",
       "      <td>1.573</td>\n",
       "      <td>0.996</td>\n",
       "      <td>0.592</td>\n",
       "      <td>0.252</td>\n",
       "      <td>0.410</td>\n",
       "    </tr>\n",
       "    <tr>\n",
       "      <th>2</th>\n",
       "      <td>3</td>\n",
       "      <td>Norway</td>\n",
       "      <td>7.554</td>\n",
       "      <td>1.488</td>\n",
       "      <td>1.582</td>\n",
       "      <td>1.028</td>\n",
       "      <td>0.603</td>\n",
       "      <td>0.271</td>\n",
       "      <td>0.341</td>\n",
       "    </tr>\n",
       "  </tbody>\n",
       "</table>\n",
       "</div>"
      ],
      "text/plain": [
       "   Overall rank Country or region  Score  GDP per capita  Social support  \\\n",
       "0             1           Finland  7.769           1.340           1.587   \n",
       "1             2           Denmark  7.600           1.383           1.573   \n",
       "2             3            Norway  7.554           1.488           1.582   \n",
       "\n",
       "   Healthy life expectancy  Freedom to make life choices  Generosity  \\\n",
       "0                    0.986                         0.596       0.153   \n",
       "1                    0.996                         0.592       0.252   \n",
       "2                    1.028                         0.603       0.271   \n",
       "\n",
       "   Perceptions of corruption  \n",
       "0                      0.393  \n",
       "1                      0.410  \n",
       "2                      0.341  "
      ]
     },
     "execution_count": 16,
     "metadata": {},
     "output_type": "execute_result"
    }
   ],
   "source": [
    "happiness_report_1 = happiness_report.copy()\n",
    "happiness_report_1.head(3)"
   ]
  },
  {
   "cell_type": "code",
   "execution_count": 17,
   "metadata": {},
   "outputs": [],
   "source": [
    "happiness_report_1.drop(['Overall rank', 'Score', 'Generosity', 'Perceptions of corruption'],axis = 1, inplace = True) #droping columns"
   ]
  },
  {
   "cell_type": "markdown",
   "metadata": {},
   "source": [
    "## RENAMING COLUMN"
   ]
  },
  {
   "cell_type": "code",
   "execution_count": 18,
   "metadata": {},
   "outputs": [],
   "source": [
    "happiness_report_1.rename(columns = {'Country or region':'Country/Region'},inplace = True)#using rename() command to rename column name"
   ]
  },
  {
   "cell_type": "code",
   "execution_count": 19,
   "metadata": {},
   "outputs": [
    {
     "data": {
      "text/html": [
       "<div>\n",
       "<style scoped>\n",
       "    .dataframe tbody tr th:only-of-type {\n",
       "        vertical-align: middle;\n",
       "    }\n",
       "\n",
       "    .dataframe tbody tr th {\n",
       "        vertical-align: top;\n",
       "    }\n",
       "\n",
       "    .dataframe thead th {\n",
       "        text-align: right;\n",
       "    }\n",
       "</style>\n",
       "<table border=\"1\" class=\"dataframe\">\n",
       "  <thead>\n",
       "    <tr style=\"text-align: right;\">\n",
       "      <th></th>\n",
       "      <th>Country/Region</th>\n",
       "      <th>GDP per capita</th>\n",
       "      <th>Social support</th>\n",
       "      <th>Healthy life expectancy</th>\n",
       "      <th>Freedom to make life choices</th>\n",
       "    </tr>\n",
       "  </thead>\n",
       "  <tbody>\n",
       "    <tr>\n",
       "      <th>0</th>\n",
       "      <td>Finland</td>\n",
       "      <td>1.340</td>\n",
       "      <td>1.587</td>\n",
       "      <td>0.986</td>\n",
       "      <td>0.596</td>\n",
       "    </tr>\n",
       "    <tr>\n",
       "      <th>1</th>\n",
       "      <td>Denmark</td>\n",
       "      <td>1.383</td>\n",
       "      <td>1.573</td>\n",
       "      <td>0.996</td>\n",
       "      <td>0.592</td>\n",
       "    </tr>\n",
       "    <tr>\n",
       "      <th>2</th>\n",
       "      <td>Norway</td>\n",
       "      <td>1.488</td>\n",
       "      <td>1.582</td>\n",
       "      <td>1.028</td>\n",
       "      <td>0.603</td>\n",
       "    </tr>\n",
       "  </tbody>\n",
       "</table>\n",
       "</div>"
      ],
      "text/plain": [
       "  Country/Region  GDP per capita  Social support  Healthy life expectancy  \\\n",
       "0        Finland           1.340           1.587                    0.986   \n",
       "1        Denmark           1.383           1.573                    0.996   \n",
       "2         Norway           1.488           1.582                    1.028   \n",
       "\n",
       "   Freedom to make life choices  \n",
       "0                         0.596  \n",
       "1                         0.592  \n",
       "2                         0.603  "
      ]
     },
     "execution_count": 19,
     "metadata": {},
     "output_type": "execute_result"
    }
   ],
   "source": [
    "happiness_report_1.head(3)"
   ]
  },
  {
   "cell_type": "code",
   "execution_count": 20,
   "metadata": {
    "scrolled": false
   },
   "outputs": [],
   "source": [
    "happiness_report_1.set_index('Country/Region',inplace = True)# set country/region as index"
   ]
  },
  {
   "cell_type": "code",
   "execution_count": 21,
   "metadata": {},
   "outputs": [
    {
     "data": {
      "text/html": [
       "<div>\n",
       "<style scoped>\n",
       "    .dataframe tbody tr th:only-of-type {\n",
       "        vertical-align: middle;\n",
       "    }\n",
       "\n",
       "    .dataframe tbody tr th {\n",
       "        vertical-align: top;\n",
       "    }\n",
       "\n",
       "    .dataframe thead th {\n",
       "        text-align: right;\n",
       "    }\n",
       "</style>\n",
       "<table border=\"1\" class=\"dataframe\">\n",
       "  <thead>\n",
       "    <tr style=\"text-align: right;\">\n",
       "      <th></th>\n",
       "      <th>GDP per capita</th>\n",
       "      <th>Social support</th>\n",
       "      <th>Healthy life expectancy</th>\n",
       "      <th>Freedom to make life choices</th>\n",
       "    </tr>\n",
       "    <tr>\n",
       "      <th>Country/Region</th>\n",
       "      <th></th>\n",
       "      <th></th>\n",
       "      <th></th>\n",
       "      <th></th>\n",
       "    </tr>\n",
       "  </thead>\n",
       "  <tbody>\n",
       "    <tr>\n",
       "      <th>Finland</th>\n",
       "      <td>1.340</td>\n",
       "      <td>1.587</td>\n",
       "      <td>0.986</td>\n",
       "      <td>0.596</td>\n",
       "    </tr>\n",
       "    <tr>\n",
       "      <th>Denmark</th>\n",
       "      <td>1.383</td>\n",
       "      <td>1.573</td>\n",
       "      <td>0.996</td>\n",
       "      <td>0.592</td>\n",
       "    </tr>\n",
       "    <tr>\n",
       "      <th>Norway</th>\n",
       "      <td>1.488</td>\n",
       "      <td>1.582</td>\n",
       "      <td>1.028</td>\n",
       "      <td>0.603</td>\n",
       "    </tr>\n",
       "  </tbody>\n",
       "</table>\n",
       "</div>"
      ],
      "text/plain": [
       "                GDP per capita  Social support  Healthy life expectancy  \\\n",
       "Country/Region                                                            \n",
       "Finland                  1.340           1.587                    0.986   \n",
       "Denmark                  1.383           1.573                    0.996   \n",
       "Norway                   1.488           1.582                    1.028   \n",
       "\n",
       "                Freedom to make life choices  \n",
       "Country/Region                                \n",
       "Finland                                0.596  \n",
       "Denmark                                0.592  \n",
       "Norway                                 0.603  "
      ]
     },
     "execution_count": 21,
     "metadata": {},
     "output_type": "execute_result"
    }
   ],
   "source": [
    "happiness_report_1.head(3)"
   ]
  },
  {
   "cell_type": "code",
   "execution_count": 22,
   "metadata": {},
   "outputs": [
    {
     "data": {
      "text/plain": [
       "156"
      ]
     },
     "execution_count": 22,
     "metadata": {},
     "output_type": "execute_result"
    }
   ],
   "source": [
    "happiness_report_1.index.nunique() #no.of unique countries in happiness_report"
   ]
  },
  {
   "cell_type": "markdown",
   "metadata": {},
   "source": [
    "# MERGING CORONA_DATA AND MAX_INFECTION_RATE"
   ]
  },
  {
   "cell_type": "code",
   "execution_count": 23,
   "metadata": {
    "scrolled": false
   },
   "outputs": [
    {
     "data": {
      "text/html": [
       "<div>\n",
       "<style scoped>\n",
       "    .dataframe tbody tr th:only-of-type {\n",
       "        vertical-align: middle;\n",
       "    }\n",
       "\n",
       "    .dataframe tbody tr th {\n",
       "        vertical-align: top;\n",
       "    }\n",
       "\n",
       "    .dataframe thead th {\n",
       "        text-align: right;\n",
       "    }\n",
       "</style>\n",
       "<table border=\"1\" class=\"dataframe\">\n",
       "  <thead>\n",
       "    <tr style=\"text-align: right;\">\n",
       "      <th></th>\n",
       "      <th>max_infection_rate</th>\n",
       "    </tr>\n",
       "    <tr>\n",
       "      <th>Country/Region</th>\n",
       "      <th></th>\n",
       "    </tr>\n",
       "  </thead>\n",
       "  <tbody>\n",
       "    <tr>\n",
       "      <th>Afghanistan</th>\n",
       "      <td>915.0</td>\n",
       "    </tr>\n",
       "    <tr>\n",
       "      <th>Albania</th>\n",
       "      <td>141.0</td>\n",
       "    </tr>\n",
       "  </tbody>\n",
       "</table>\n",
       "</div>"
      ],
      "text/plain": [
       "                max_infection_rate\n",
       "Country/Region                    \n",
       "Afghanistan                  915.0\n",
       "Albania                      141.0"
      ]
     },
     "execution_count": 23,
     "metadata": {},
     "output_type": "execute_result"
    }
   ],
   "source": [
    "corona_data.head(2)"
   ]
  },
  {
   "cell_type": "code",
   "execution_count": 24,
   "metadata": {},
   "outputs": [
    {
     "data": {
      "text/plain": [
       "(188, 1)"
      ]
     },
     "execution_count": 24,
     "metadata": {},
     "output_type": "execute_result"
    }
   ],
   "source": [
    "corona_data.shape "
   ]
  },
  {
   "cell_type": "code",
   "execution_count": 25,
   "metadata": {},
   "outputs": [
    {
     "data": {
      "text/plain": [
       "max_infection_rate    float64\n",
       "dtype: object"
      ]
     },
     "execution_count": 25,
     "metadata": {},
     "output_type": "execute_result"
    }
   ],
   "source": [
    "corona_data.dtypes"
   ]
  },
  {
   "cell_type": "code",
   "execution_count": 26,
   "metadata": {},
   "outputs": [
    {
     "data": {
      "text/html": [
       "<div>\n",
       "<style scoped>\n",
       "    .dataframe tbody tr th:only-of-type {\n",
       "        vertical-align: middle;\n",
       "    }\n",
       "\n",
       "    .dataframe tbody tr th {\n",
       "        vertical-align: top;\n",
       "    }\n",
       "\n",
       "    .dataframe thead th {\n",
       "        text-align: right;\n",
       "    }\n",
       "</style>\n",
       "<table border=\"1\" class=\"dataframe\">\n",
       "  <thead>\n",
       "    <tr style=\"text-align: right;\">\n",
       "      <th></th>\n",
       "      <th>GDP per capita</th>\n",
       "      <th>Social support</th>\n",
       "      <th>Healthy life expectancy</th>\n",
       "      <th>Freedom to make life choices</th>\n",
       "    </tr>\n",
       "    <tr>\n",
       "      <th>Country/Region</th>\n",
       "      <th></th>\n",
       "      <th></th>\n",
       "      <th></th>\n",
       "      <th></th>\n",
       "    </tr>\n",
       "  </thead>\n",
       "  <tbody>\n",
       "    <tr>\n",
       "      <th>Finland</th>\n",
       "      <td>1.340</td>\n",
       "      <td>1.587</td>\n",
       "      <td>0.986</td>\n",
       "      <td>0.596</td>\n",
       "    </tr>\n",
       "    <tr>\n",
       "      <th>Denmark</th>\n",
       "      <td>1.383</td>\n",
       "      <td>1.573</td>\n",
       "      <td>0.996</td>\n",
       "      <td>0.592</td>\n",
       "    </tr>\n",
       "  </tbody>\n",
       "</table>\n",
       "</div>"
      ],
      "text/plain": [
       "                GDP per capita  Social support  Healthy life expectancy  \\\n",
       "Country/Region                                                            \n",
       "Finland                  1.340           1.587                    0.986   \n",
       "Denmark                  1.383           1.573                    0.996   \n",
       "\n",
       "                Freedom to make life choices  \n",
       "Country/Region                                \n",
       "Finland                                0.596  \n",
       "Denmark                                0.592  "
      ]
     },
     "execution_count": 26,
     "metadata": {},
     "output_type": "execute_result"
    }
   ],
   "source": [
    "happiness_report_1.head(2)"
   ]
  },
  {
   "cell_type": "code",
   "execution_count": 27,
   "metadata": {},
   "outputs": [
    {
     "data": {
      "text/plain": [
       "(156, 4)"
      ]
     },
     "execution_count": 27,
     "metadata": {},
     "output_type": "execute_result"
    }
   ],
   "source": [
    "happiness_report_1.shape"
   ]
  },
  {
   "cell_type": "code",
   "execution_count": 28,
   "metadata": {},
   "outputs": [
    {
     "data": {
      "text/plain": [
       "GDP per capita                  float64\n",
       "Social support                  float64\n",
       "Healthy life expectancy         float64\n",
       "Freedom to make life choices    float64\n",
       "dtype: object"
      ]
     },
     "execution_count": 28,
     "metadata": {},
     "output_type": "execute_result"
    }
   ],
   "source": [
    "happiness_report_1.dtypes"
   ]
  },
  {
   "cell_type": "markdown",
   "metadata": {},
   "source": [
    "## CREATING NEW DATAFRAME "
   ]
  },
  {
   "cell_type": "code",
   "execution_count": 29,
   "metadata": {},
   "outputs": [
    {
     "data": {
      "text/html": [
       "<div>\n",
       "<style scoped>\n",
       "    .dataframe tbody tr th:only-of-type {\n",
       "        vertical-align: middle;\n",
       "    }\n",
       "\n",
       "    .dataframe tbody tr th {\n",
       "        vertical-align: top;\n",
       "    }\n",
       "\n",
       "    .dataframe thead th {\n",
       "        text-align: right;\n",
       "    }\n",
       "</style>\n",
       "<table border=\"1\" class=\"dataframe\">\n",
       "  <thead>\n",
       "    <tr style=\"text-align: right;\">\n",
       "      <th></th>\n",
       "      <th>max_infection_rate</th>\n",
       "      <th>GDP per capita</th>\n",
       "      <th>Social support</th>\n",
       "      <th>Healthy life expectancy</th>\n",
       "      <th>Freedom to make life choices</th>\n",
       "    </tr>\n",
       "    <tr>\n",
       "      <th>Country/Region</th>\n",
       "      <th></th>\n",
       "      <th></th>\n",
       "      <th></th>\n",
       "      <th></th>\n",
       "      <th></th>\n",
       "    </tr>\n",
       "  </thead>\n",
       "  <tbody>\n",
       "    <tr>\n",
       "      <th>Afghanistan</th>\n",
       "      <td>915.0</td>\n",
       "      <td>0.350</td>\n",
       "      <td>0.517</td>\n",
       "      <td>0.361</td>\n",
       "      <td>0.000</td>\n",
       "    </tr>\n",
       "    <tr>\n",
       "      <th>Albania</th>\n",
       "      <td>141.0</td>\n",
       "      <td>0.947</td>\n",
       "      <td>0.848</td>\n",
       "      <td>0.874</td>\n",
       "      <td>0.383</td>\n",
       "    </tr>\n",
       "    <tr>\n",
       "      <th>Algeria</th>\n",
       "      <td>675.0</td>\n",
       "      <td>1.002</td>\n",
       "      <td>1.160</td>\n",
       "      <td>0.785</td>\n",
       "      <td>0.086</td>\n",
       "    </tr>\n",
       "    <tr>\n",
       "      <th>Argentina</th>\n",
       "      <td>7663.0</td>\n",
       "      <td>1.092</td>\n",
       "      <td>1.432</td>\n",
       "      <td>0.881</td>\n",
       "      <td>0.471</td>\n",
       "    </tr>\n",
       "    <tr>\n",
       "      <th>Armenia</th>\n",
       "      <td>771.0</td>\n",
       "      <td>0.850</td>\n",
       "      <td>1.055</td>\n",
       "      <td>0.815</td>\n",
       "      <td>0.283</td>\n",
       "    </tr>\n",
       "    <tr>\n",
       "      <th>...</th>\n",
       "      <td>...</td>\n",
       "      <td>...</td>\n",
       "      <td>...</td>\n",
       "      <td>...</td>\n",
       "      <td>...</td>\n",
       "    </tr>\n",
       "    <tr>\n",
       "      <th>Venezuela</th>\n",
       "      <td>1150.0</td>\n",
       "      <td>0.960</td>\n",
       "      <td>1.427</td>\n",
       "      <td>0.805</td>\n",
       "      <td>0.154</td>\n",
       "    </tr>\n",
       "    <tr>\n",
       "      <th>Vietnam</th>\n",
       "      <td>50.0</td>\n",
       "      <td>0.741</td>\n",
       "      <td>1.346</td>\n",
       "      <td>0.851</td>\n",
       "      <td>0.543</td>\n",
       "    </tr>\n",
       "    <tr>\n",
       "      <th>Yemen</th>\n",
       "      <td>116.0</td>\n",
       "      <td>0.287</td>\n",
       "      <td>1.163</td>\n",
       "      <td>0.463</td>\n",
       "      <td>0.143</td>\n",
       "    </tr>\n",
       "    <tr>\n",
       "      <th>Zambia</th>\n",
       "      <td>915.0</td>\n",
       "      <td>0.578</td>\n",
       "      <td>1.058</td>\n",
       "      <td>0.426</td>\n",
       "      <td>0.431</td>\n",
       "    </tr>\n",
       "    <tr>\n",
       "      <th>Zimbabwe</th>\n",
       "      <td>490.0</td>\n",
       "      <td>0.366</td>\n",
       "      <td>1.114</td>\n",
       "      <td>0.433</td>\n",
       "      <td>0.361</td>\n",
       "    </tr>\n",
       "  </tbody>\n",
       "</table>\n",
       "<p>144 rows × 5 columns</p>\n",
       "</div>"
      ],
      "text/plain": [
       "                max_infection_rate  GDP per capita  Social support  \\\n",
       "Country/Region                                                       \n",
       "Afghanistan                  915.0           0.350           0.517   \n",
       "Albania                      141.0           0.947           0.848   \n",
       "Algeria                      675.0           1.002           1.160   \n",
       "Argentina                   7663.0           1.092           1.432   \n",
       "Armenia                      771.0           0.850           1.055   \n",
       "...                            ...             ...             ...   \n",
       "Venezuela                   1150.0           0.960           1.427   \n",
       "Vietnam                       50.0           0.741           1.346   \n",
       "Yemen                        116.0           0.287           1.163   \n",
       "Zambia                       915.0           0.578           1.058   \n",
       "Zimbabwe                     490.0           0.366           1.114   \n",
       "\n",
       "                Healthy life expectancy  Freedom to make life choices  \n",
       "Country/Region                                                         \n",
       "Afghanistan                       0.361                         0.000  \n",
       "Albania                           0.874                         0.383  \n",
       "Algeria                           0.785                         0.086  \n",
       "Argentina                         0.881                         0.471  \n",
       "Armenia                           0.815                         0.283  \n",
       "...                                 ...                           ...  \n",
       "Venezuela                         0.805                         0.154  \n",
       "Vietnam                           0.851                         0.543  \n",
       "Yemen                             0.463                         0.143  \n",
       "Zambia                            0.426                         0.431  \n",
       "Zimbabwe                          0.433                         0.361  \n",
       "\n",
       "[144 rows x 5 columns]"
      ]
     },
     "execution_count": 29,
     "metadata": {},
     "output_type": "execute_result"
    }
   ],
   "source": [
    "data = pd.merge(corona_data,happiness_report_1,how = 'inner',left_index = True, right_index = True)\n",
    "data"
   ]
  },
  {
   "cell_type": "code",
   "execution_count": 30,
   "metadata": {},
   "outputs": [
    {
     "data": {
      "text/plain": [
       "(144, 5)"
      ]
     },
     "execution_count": 30,
     "metadata": {},
     "output_type": "execute_result"
    }
   ],
   "source": [
    "data.shape"
   ]
  },
  {
   "cell_type": "markdown",
   "metadata": {},
   "source": [
    "## CORRELATION AMONG ALL VARIABLES"
   ]
  },
  {
   "cell_type": "code",
   "execution_count": 31,
   "metadata": {
    "scrolled": true
   },
   "outputs": [
    {
     "data": {
      "text/html": [
       "<div>\n",
       "<style scoped>\n",
       "    .dataframe tbody tr th:only-of-type {\n",
       "        vertical-align: middle;\n",
       "    }\n",
       "\n",
       "    .dataframe tbody tr th {\n",
       "        vertical-align: top;\n",
       "    }\n",
       "\n",
       "    .dataframe thead th {\n",
       "        text-align: right;\n",
       "    }\n",
       "</style>\n",
       "<table border=\"1\" class=\"dataframe\">\n",
       "  <thead>\n",
       "    <tr style=\"text-align: right;\">\n",
       "      <th></th>\n",
       "      <th>max_infection_rate</th>\n",
       "      <th>GDP per capita</th>\n",
       "      <th>Social support</th>\n",
       "      <th>Healthy life expectancy</th>\n",
       "      <th>Freedom to make life choices</th>\n",
       "    </tr>\n",
       "  </thead>\n",
       "  <tbody>\n",
       "    <tr>\n",
       "      <th>max_infection_rate</th>\n",
       "      <td>1.000000</td>\n",
       "      <td>0.100475</td>\n",
       "      <td>0.067720</td>\n",
       "      <td>0.088250</td>\n",
       "      <td>0.088359</td>\n",
       "    </tr>\n",
       "    <tr>\n",
       "      <th>GDP per capita</th>\n",
       "      <td>0.100475</td>\n",
       "      <td>1.000000</td>\n",
       "      <td>0.757521</td>\n",
       "      <td>0.859431</td>\n",
       "      <td>0.394799</td>\n",
       "    </tr>\n",
       "    <tr>\n",
       "      <th>Social support</th>\n",
       "      <td>0.067720</td>\n",
       "      <td>0.757521</td>\n",
       "      <td>1.000000</td>\n",
       "      <td>0.751632</td>\n",
       "      <td>0.456317</td>\n",
       "    </tr>\n",
       "    <tr>\n",
       "      <th>Healthy life expectancy</th>\n",
       "      <td>0.088250</td>\n",
       "      <td>0.859431</td>\n",
       "      <td>0.751632</td>\n",
       "      <td>1.000000</td>\n",
       "      <td>0.423146</td>\n",
       "    </tr>\n",
       "    <tr>\n",
       "      <th>Freedom to make life choices</th>\n",
       "      <td>0.088359</td>\n",
       "      <td>0.394799</td>\n",
       "      <td>0.456317</td>\n",
       "      <td>0.423146</td>\n",
       "      <td>1.000000</td>\n",
       "    </tr>\n",
       "  </tbody>\n",
       "</table>\n",
       "</div>"
      ],
      "text/plain": [
       "                              max_infection_rate  GDP per capita  \\\n",
       "max_infection_rate                      1.000000        0.100475   \n",
       "GDP per capita                          0.100475        1.000000   \n",
       "Social support                          0.067720        0.757521   \n",
       "Healthy life expectancy                 0.088250        0.859431   \n",
       "Freedom to make life choices            0.088359        0.394799   \n",
       "\n",
       "                              Social support  Healthy life expectancy  \\\n",
       "max_infection_rate                  0.067720                 0.088250   \n",
       "GDP per capita                      0.757521                 0.859431   \n",
       "Social support                      1.000000                 0.751632   \n",
       "Healthy life expectancy             0.751632                 1.000000   \n",
       "Freedom to make life choices        0.456317                 0.423146   \n",
       "\n",
       "                              Freedom to make life choices  \n",
       "max_infection_rate                                0.088359  \n",
       "GDP per capita                                    0.394799  \n",
       "Social support                                    0.456317  \n",
       "Healthy life expectancy                           0.423146  \n",
       "Freedom to make life choices                      1.000000  "
      ]
     },
     "execution_count": 31,
     "metadata": {},
     "output_type": "execute_result"
    }
   ],
   "source": [
    "data.corr(method= 'pearson') # using pearson method "
   ]
  },
  {
   "cell_type": "code",
   "execution_count": 32,
   "metadata": {},
   "outputs": [
    {
     "data": {
      "text/html": [
       "<div>\n",
       "<style scoped>\n",
       "    .dataframe tbody tr th:only-of-type {\n",
       "        vertical-align: middle;\n",
       "    }\n",
       "\n",
       "    .dataframe tbody tr th {\n",
       "        vertical-align: top;\n",
       "    }\n",
       "\n",
       "    .dataframe thead th {\n",
       "        text-align: right;\n",
       "    }\n",
       "</style>\n",
       "<table border=\"1\" class=\"dataframe\">\n",
       "  <thead>\n",
       "    <tr style=\"text-align: right;\">\n",
       "      <th></th>\n",
       "      <th>max_infection_rate</th>\n",
       "      <th>GDP per capita</th>\n",
       "      <th>Social support</th>\n",
       "      <th>Healthy life expectancy</th>\n",
       "      <th>Freedom to make life choices</th>\n",
       "    </tr>\n",
       "  </thead>\n",
       "  <tbody>\n",
       "    <tr>\n",
       "      <th>max_infection_rate</th>\n",
       "      <td>1.000000</td>\n",
       "      <td>0.222870</td>\n",
       "      <td>0.170190</td>\n",
       "      <td>0.194246</td>\n",
       "      <td>0.096479</td>\n",
       "    </tr>\n",
       "    <tr>\n",
       "      <th>GDP per capita</th>\n",
       "      <td>0.222870</td>\n",
       "      <td>1.000000</td>\n",
       "      <td>0.580595</td>\n",
       "      <td>0.664590</td>\n",
       "      <td>0.286201</td>\n",
       "    </tr>\n",
       "    <tr>\n",
       "      <th>Social support</th>\n",
       "      <td>0.170190</td>\n",
       "      <td>0.580595</td>\n",
       "      <td>1.000000</td>\n",
       "      <td>0.560188</td>\n",
       "      <td>0.330269</td>\n",
       "    </tr>\n",
       "    <tr>\n",
       "      <th>Healthy life expectancy</th>\n",
       "      <td>0.194246</td>\n",
       "      <td>0.664590</td>\n",
       "      <td>0.560188</td>\n",
       "      <td>1.000000</td>\n",
       "      <td>0.314477</td>\n",
       "    </tr>\n",
       "    <tr>\n",
       "      <th>Freedom to make life choices</th>\n",
       "      <td>0.096479</td>\n",
       "      <td>0.286201</td>\n",
       "      <td>0.330269</td>\n",
       "      <td>0.314477</td>\n",
       "      <td>1.000000</td>\n",
       "    </tr>\n",
       "  </tbody>\n",
       "</table>\n",
       "</div>"
      ],
      "text/plain": [
       "                              max_infection_rate  GDP per capita  \\\n",
       "max_infection_rate                      1.000000        0.222870   \n",
       "GDP per capita                          0.222870        1.000000   \n",
       "Social support                          0.170190        0.580595   \n",
       "Healthy life expectancy                 0.194246        0.664590   \n",
       "Freedom to make life choices            0.096479        0.286201   \n",
       "\n",
       "                              Social support  Healthy life expectancy  \\\n",
       "max_infection_rate                  0.170190                 0.194246   \n",
       "GDP per capita                      0.580595                 0.664590   \n",
       "Social support                      1.000000                 0.560188   \n",
       "Healthy life expectancy             0.560188                 1.000000   \n",
       "Freedom to make life choices        0.330269                 0.314477   \n",
       "\n",
       "                              Freedom to make life choices  \n",
       "max_infection_rate                                0.096479  \n",
       "GDP per capita                                    0.286201  \n",
       "Social support                                    0.330269  \n",
       "Healthy life expectancy                           0.314477  \n",
       "Freedom to make life choices                      1.000000  "
      ]
     },
     "execution_count": 32,
     "metadata": {},
     "output_type": "execute_result"
    }
   ],
   "source": [
    "data.corr(method = 'kendall') #using kendall method"
   ]
  },
  {
   "cell_type": "code",
   "execution_count": 33,
   "metadata": {},
   "outputs": [
    {
     "data": {
      "text/html": [
       "<div>\n",
       "<style scoped>\n",
       "    .dataframe tbody tr th:only-of-type {\n",
       "        vertical-align: middle;\n",
       "    }\n",
       "\n",
       "    .dataframe tbody tr th {\n",
       "        vertical-align: top;\n",
       "    }\n",
       "\n",
       "    .dataframe thead th {\n",
       "        text-align: right;\n",
       "    }\n",
       "</style>\n",
       "<table border=\"1\" class=\"dataframe\">\n",
       "  <thead>\n",
       "    <tr style=\"text-align: right;\">\n",
       "      <th></th>\n",
       "      <th>max_infection_rate</th>\n",
       "      <th>GDP per capita</th>\n",
       "      <th>Social support</th>\n",
       "      <th>Healthy life expectancy</th>\n",
       "      <th>Freedom to make life choices</th>\n",
       "    </tr>\n",
       "  </thead>\n",
       "  <tbody>\n",
       "    <tr>\n",
       "      <th>max_infection_rate</th>\n",
       "      <td>1.000000</td>\n",
       "      <td>0.338158</td>\n",
       "      <td>0.242662</td>\n",
       "      <td>0.289974</td>\n",
       "      <td>0.153488</td>\n",
       "    </tr>\n",
       "    <tr>\n",
       "      <th>GDP per capita</th>\n",
       "      <td>0.338158</td>\n",
       "      <td>1.000000</td>\n",
       "      <td>0.779107</td>\n",
       "      <td>0.855781</td>\n",
       "      <td>0.411389</td>\n",
       "    </tr>\n",
       "    <tr>\n",
       "      <th>Social support</th>\n",
       "      <td>0.242662</td>\n",
       "      <td>0.779107</td>\n",
       "      <td>1.000000</td>\n",
       "      <td>0.759140</td>\n",
       "      <td>0.458597</td>\n",
       "    </tr>\n",
       "    <tr>\n",
       "      <th>Healthy life expectancy</th>\n",
       "      <td>0.289974</td>\n",
       "      <td>0.855781</td>\n",
       "      <td>0.759140</td>\n",
       "      <td>1.000000</td>\n",
       "      <td>0.446371</td>\n",
       "    </tr>\n",
       "    <tr>\n",
       "      <th>Freedom to make life choices</th>\n",
       "      <td>0.153488</td>\n",
       "      <td>0.411389</td>\n",
       "      <td>0.458597</td>\n",
       "      <td>0.446371</td>\n",
       "      <td>1.000000</td>\n",
       "    </tr>\n",
       "  </tbody>\n",
       "</table>\n",
       "</div>"
      ],
      "text/plain": [
       "                              max_infection_rate  GDP per capita  \\\n",
       "max_infection_rate                      1.000000        0.338158   \n",
       "GDP per capita                          0.338158        1.000000   \n",
       "Social support                          0.242662        0.779107   \n",
       "Healthy life expectancy                 0.289974        0.855781   \n",
       "Freedom to make life choices            0.153488        0.411389   \n",
       "\n",
       "                              Social support  Healthy life expectancy  \\\n",
       "max_infection_rate                  0.242662                 0.289974   \n",
       "GDP per capita                      0.779107                 0.855781   \n",
       "Social support                      1.000000                 0.759140   \n",
       "Healthy life expectancy             0.759140                 1.000000   \n",
       "Freedom to make life choices        0.458597                 0.446371   \n",
       "\n",
       "                              Freedom to make life choices  \n",
       "max_infection_rate                                0.153488  \n",
       "GDP per capita                                    0.411389  \n",
       "Social support                                    0.458597  \n",
       "Healthy life expectancy                           0.446371  \n",
       "Freedom to make life choices                      1.000000  "
      ]
     },
     "execution_count": 33,
     "metadata": {},
     "output_type": "execute_result"
    }
   ],
   "source": [
    "data.corr(method = 'spearman') #using spearman method"
   ]
  },
  {
   "cell_type": "markdown",
   "metadata": {},
   "source": [
    "# SECTION 4"
   ]
  },
  {
   "cell_type": "code",
   "execution_count": 34,
   "metadata": {
    "scrolled": false
   },
   "outputs": [
    {
     "data": {
      "text/html": [
       "<div>\n",
       "<style scoped>\n",
       "    .dataframe tbody tr th:only-of-type {\n",
       "        vertical-align: middle;\n",
       "    }\n",
       "\n",
       "    .dataframe tbody tr th {\n",
       "        vertical-align: top;\n",
       "    }\n",
       "\n",
       "    .dataframe thead th {\n",
       "        text-align: right;\n",
       "    }\n",
       "</style>\n",
       "<table border=\"1\" class=\"dataframe\">\n",
       "  <thead>\n",
       "    <tr style=\"text-align: right;\">\n",
       "      <th></th>\n",
       "      <th>country</th>\n",
       "      <th>latitude</th>\n",
       "      <th>longitude</th>\n",
       "      <th>name</th>\n",
       "    </tr>\n",
       "  </thead>\n",
       "  <tbody>\n",
       "    <tr>\n",
       "      <th>0</th>\n",
       "      <td>AD</td>\n",
       "      <td>42.546245</td>\n",
       "      <td>1.601554</td>\n",
       "      <td>Andorra</td>\n",
       "    </tr>\n",
       "    <tr>\n",
       "      <th>1</th>\n",
       "      <td>AE</td>\n",
       "      <td>23.424076</td>\n",
       "      <td>53.847818</td>\n",
       "      <td>United Arab Emirates</td>\n",
       "    </tr>\n",
       "    <tr>\n",
       "      <th>2</th>\n",
       "      <td>AF</td>\n",
       "      <td>33.939110</td>\n",
       "      <td>67.709953</td>\n",
       "      <td>Afghanistan</td>\n",
       "    </tr>\n",
       "  </tbody>\n",
       "</table>\n",
       "</div>"
      ],
      "text/plain": [
       "  country   latitude  longitude                  name\n",
       "0      AD  42.546245   1.601554               Andorra\n",
       "1      AE  23.424076  53.847818  United Arab Emirates\n",
       "2      AF  33.939110  67.709953           Afghanistan"
      ]
     },
     "execution_count": 34,
     "metadata": {},
     "output_type": "execute_result"
    }
   ],
   "source": [
    "cd = pd.read_csv('lat ang long countries.csv') #import latitude and longitude csv file\n",
    "cd.head(3)"
   ]
  },
  {
   "cell_type": "code",
   "execution_count": 35,
   "metadata": {},
   "outputs": [
    {
     "name": "stdout",
     "output_type": "stream",
     "text": [
      "<class 'pandas.core.frame.DataFrame'>\n",
      "RangeIndex: 245 entries, 0 to 244\n",
      "Data columns (total 4 columns):\n",
      " #   Column     Non-Null Count  Dtype  \n",
      "---  ------     --------------  -----  \n",
      " 0   country    244 non-null    object \n",
      " 1   latitude   244 non-null    float64\n",
      " 2   longitude  244 non-null    float64\n",
      " 3   name       245 non-null    object \n",
      "dtypes: float64(2), object(2)\n",
      "memory usage: 7.8+ KB\n"
     ]
    }
   ],
   "source": [
    "cd.info()"
   ]
  },
  {
   "cell_type": "code",
   "execution_count": 36,
   "metadata": {},
   "outputs": [
    {
     "data": {
      "text/plain": [
       "country       object\n",
       "latitude     float64\n",
       "longitude    float64\n",
       "name          object\n",
       "dtype: object"
      ]
     },
     "execution_count": 36,
     "metadata": {},
     "output_type": "execute_result"
    }
   ],
   "source": [
    "cd.dtypes"
   ]
  },
  {
   "cell_type": "code",
   "execution_count": 37,
   "metadata": {},
   "outputs": [],
   "source": [
    "cd.drop('country',inplace = True,axis = 1) # droping country column"
   ]
  },
  {
   "cell_type": "code",
   "execution_count": 38,
   "metadata": {},
   "outputs": [
    {
     "data": {
      "text/html": [
       "<div>\n",
       "<style scoped>\n",
       "    .dataframe tbody tr th:only-of-type {\n",
       "        vertical-align: middle;\n",
       "    }\n",
       "\n",
       "    .dataframe tbody tr th {\n",
       "        vertical-align: top;\n",
       "    }\n",
       "\n",
       "    .dataframe thead th {\n",
       "        text-align: right;\n",
       "    }\n",
       "</style>\n",
       "<table border=\"1\" class=\"dataframe\">\n",
       "  <thead>\n",
       "    <tr style=\"text-align: right;\">\n",
       "      <th></th>\n",
       "      <th>latitude</th>\n",
       "      <th>longitude</th>\n",
       "      <th>name</th>\n",
       "    </tr>\n",
       "  </thead>\n",
       "  <tbody>\n",
       "    <tr>\n",
       "      <th>0</th>\n",
       "      <td>42.546245</td>\n",
       "      <td>1.601554</td>\n",
       "      <td>Andorra</td>\n",
       "    </tr>\n",
       "  </tbody>\n",
       "</table>\n",
       "</div>"
      ],
      "text/plain": [
       "    latitude  longitude     name\n",
       "0  42.546245   1.601554  Andorra"
      ]
     },
     "execution_count": 38,
     "metadata": {},
     "output_type": "execute_result"
    }
   ],
   "source": [
    "cd.head(1)"
   ]
  },
  {
   "cell_type": "code",
   "execution_count": 39,
   "metadata": {},
   "outputs": [],
   "source": [
    "cd = cd.rename(columns = {'name':'Country/Region'}) # rename column 'name' as 'Country/Region'"
   ]
  },
  {
   "cell_type": "code",
   "execution_count": 40,
   "metadata": {},
   "outputs": [
    {
     "data": {
      "text/html": [
       "<div>\n",
       "<style scoped>\n",
       "    .dataframe tbody tr th:only-of-type {\n",
       "        vertical-align: middle;\n",
       "    }\n",
       "\n",
       "    .dataframe tbody tr th {\n",
       "        vertical-align: top;\n",
       "    }\n",
       "\n",
       "    .dataframe thead th {\n",
       "        text-align: right;\n",
       "    }\n",
       "</style>\n",
       "<table border=\"1\" class=\"dataframe\">\n",
       "  <thead>\n",
       "    <tr style=\"text-align: right;\">\n",
       "      <th></th>\n",
       "      <th>latitude</th>\n",
       "      <th>longitude</th>\n",
       "      <th>Country/Region</th>\n",
       "    </tr>\n",
       "  </thead>\n",
       "  <tbody>\n",
       "    <tr>\n",
       "      <th>0</th>\n",
       "      <td>42.546245</td>\n",
       "      <td>1.601554</td>\n",
       "      <td>Andorra</td>\n",
       "    </tr>\n",
       "    <tr>\n",
       "      <th>1</th>\n",
       "      <td>23.424076</td>\n",
       "      <td>53.847818</td>\n",
       "      <td>United Arab Emirates</td>\n",
       "    </tr>\n",
       "  </tbody>\n",
       "</table>\n",
       "</div>"
      ],
      "text/plain": [
       "    latitude  longitude        Country/Region\n",
       "0  42.546245   1.601554               Andorra\n",
       "1  23.424076  53.847818  United Arab Emirates"
      ]
     },
     "execution_count": 40,
     "metadata": {},
     "output_type": "execute_result"
    }
   ],
   "source": [
    "cd.head(2)"
   ]
  },
  {
   "cell_type": "code",
   "execution_count": 41,
   "metadata": {},
   "outputs": [],
   "source": [
    "cd.set_index('Country/Region',inplace = True)"
   ]
  },
  {
   "cell_type": "code",
   "execution_count": 42,
   "metadata": {},
   "outputs": [
    {
     "data": {
      "text/html": [
       "<div>\n",
       "<style scoped>\n",
       "    .dataframe tbody tr th:only-of-type {\n",
       "        vertical-align: middle;\n",
       "    }\n",
       "\n",
       "    .dataframe tbody tr th {\n",
       "        vertical-align: top;\n",
       "    }\n",
       "\n",
       "    .dataframe thead th {\n",
       "        text-align: right;\n",
       "    }\n",
       "</style>\n",
       "<table border=\"1\" class=\"dataframe\">\n",
       "  <thead>\n",
       "    <tr style=\"text-align: right;\">\n",
       "      <th></th>\n",
       "      <th>latitude</th>\n",
       "      <th>longitude</th>\n",
       "    </tr>\n",
       "    <tr>\n",
       "      <th>Country/Region</th>\n",
       "      <th></th>\n",
       "      <th></th>\n",
       "    </tr>\n",
       "  </thead>\n",
       "  <tbody>\n",
       "    <tr>\n",
       "      <th>Andorra</th>\n",
       "      <td>42.546245</td>\n",
       "      <td>1.601554</td>\n",
       "    </tr>\n",
       "    <tr>\n",
       "      <th>United Arab Emirates</th>\n",
       "      <td>23.424076</td>\n",
       "      <td>53.847818</td>\n",
       "    </tr>\n",
       "    <tr>\n",
       "      <th>Afghanistan</th>\n",
       "      <td>33.939110</td>\n",
       "      <td>67.709953</td>\n",
       "    </tr>\n",
       "    <tr>\n",
       "      <th>Antigua and Barbuda</th>\n",
       "      <td>17.060816</td>\n",
       "      <td>-61.796428</td>\n",
       "    </tr>\n",
       "    <tr>\n",
       "      <th>Anguilla</th>\n",
       "      <td>18.220554</td>\n",
       "      <td>-63.068615</td>\n",
       "    </tr>\n",
       "  </tbody>\n",
       "</table>\n",
       "</div>"
      ],
      "text/plain": [
       "                       latitude  longitude\n",
       "Country/Region                            \n",
       "Andorra               42.546245   1.601554\n",
       "United Arab Emirates  23.424076  53.847818\n",
       "Afghanistan           33.939110  67.709953\n",
       "Antigua and Barbuda   17.060816 -61.796428\n",
       "Anguilla              18.220554 -63.068615"
      ]
     },
     "execution_count": 42,
     "metadata": {},
     "output_type": "execute_result"
    }
   ],
   "source": [
    "cd.head()"
   ]
  },
  {
   "cell_type": "code",
   "execution_count": 43,
   "metadata": {},
   "outputs": [
    {
     "data": {
      "text/plain": [
       "(245, 2)"
      ]
     },
     "execution_count": 43,
     "metadata": {},
     "output_type": "execute_result"
    }
   ],
   "source": [
    "cd.shape"
   ]
  },
  {
   "cell_type": "code",
   "execution_count": 44,
   "metadata": {},
   "outputs": [
    {
     "data": {
      "text/html": [
       "<div>\n",
       "<style scoped>\n",
       "    .dataframe tbody tr th:only-of-type {\n",
       "        vertical-align: middle;\n",
       "    }\n",
       "\n",
       "    .dataframe tbody tr th {\n",
       "        vertical-align: top;\n",
       "    }\n",
       "\n",
       "    .dataframe thead th {\n",
       "        text-align: right;\n",
       "    }\n",
       "</style>\n",
       "<table border=\"1\" class=\"dataframe\">\n",
       "  <thead>\n",
       "    <tr style=\"text-align: right;\">\n",
       "      <th></th>\n",
       "      <th>max_infection_rate</th>\n",
       "      <th>GDP per capita</th>\n",
       "      <th>Social support</th>\n",
       "      <th>Healthy life expectancy</th>\n",
       "      <th>Freedom to make life choices</th>\n",
       "      <th>latitude</th>\n",
       "      <th>longitude</th>\n",
       "    </tr>\n",
       "    <tr>\n",
       "      <th>Country/Region</th>\n",
       "      <th></th>\n",
       "      <th></th>\n",
       "      <th></th>\n",
       "      <th></th>\n",
       "      <th></th>\n",
       "      <th></th>\n",
       "      <th></th>\n",
       "    </tr>\n",
       "  </thead>\n",
       "  <tbody>\n",
       "    <tr>\n",
       "      <th>Afghanistan</th>\n",
       "      <td>915.0</td>\n",
       "      <td>0.350</td>\n",
       "      <td>0.517</td>\n",
       "      <td>0.361</td>\n",
       "      <td>0.000</td>\n",
       "      <td>33.939110</td>\n",
       "      <td>67.709953</td>\n",
       "    </tr>\n",
       "    <tr>\n",
       "      <th>Albania</th>\n",
       "      <td>141.0</td>\n",
       "      <td>0.947</td>\n",
       "      <td>0.848</td>\n",
       "      <td>0.874</td>\n",
       "      <td>0.383</td>\n",
       "      <td>41.153332</td>\n",
       "      <td>20.168331</td>\n",
       "    </tr>\n",
       "    <tr>\n",
       "      <th>Algeria</th>\n",
       "      <td>675.0</td>\n",
       "      <td>1.002</td>\n",
       "      <td>1.160</td>\n",
       "      <td>0.785</td>\n",
       "      <td>0.086</td>\n",
       "      <td>28.033886</td>\n",
       "      <td>1.659626</td>\n",
       "    </tr>\n",
       "    <tr>\n",
       "      <th>Argentina</th>\n",
       "      <td>7663.0</td>\n",
       "      <td>1.092</td>\n",
       "      <td>1.432</td>\n",
       "      <td>0.881</td>\n",
       "      <td>0.471</td>\n",
       "      <td>-38.416097</td>\n",
       "      <td>-63.616672</td>\n",
       "    </tr>\n",
       "    <tr>\n",
       "      <th>Armenia</th>\n",
       "      <td>771.0</td>\n",
       "      <td>0.850</td>\n",
       "      <td>1.055</td>\n",
       "      <td>0.815</td>\n",
       "      <td>0.283</td>\n",
       "      <td>40.069099</td>\n",
       "      <td>45.038189</td>\n",
       "    </tr>\n",
       "  </tbody>\n",
       "</table>\n",
       "</div>"
      ],
      "text/plain": [
       "                max_infection_rate  GDP per capita  Social support  \\\n",
       "Country/Region                                                       \n",
       "Afghanistan                  915.0           0.350           0.517   \n",
       "Albania                      141.0           0.947           0.848   \n",
       "Algeria                      675.0           1.002           1.160   \n",
       "Argentina                   7663.0           1.092           1.432   \n",
       "Armenia                      771.0           0.850           1.055   \n",
       "\n",
       "                Healthy life expectancy  Freedom to make life choices  \\\n",
       "Country/Region                                                          \n",
       "Afghanistan                       0.361                         0.000   \n",
       "Albania                           0.874                         0.383   \n",
       "Algeria                           0.785                         0.086   \n",
       "Argentina                         0.881                         0.471   \n",
       "Armenia                           0.815                         0.283   \n",
       "\n",
       "                 latitude  longitude  \n",
       "Country/Region                        \n",
       "Afghanistan     33.939110  67.709953  \n",
       "Albania         41.153332  20.168331  \n",
       "Algeria         28.033886   1.659626  \n",
       "Argentina      -38.416097 -63.616672  \n",
       "Armenia         40.069099  45.038189  "
      ]
     },
     "execution_count": 44,
     "metadata": {},
     "output_type": "execute_result"
    }
   ],
   "source": [
    "final_data = pd.merge(data, cd, how = 'inner',left_index = True, right_index = True)\n",
    "final_data.head()"
   ]
  },
  {
   "cell_type": "code",
   "execution_count": 45,
   "metadata": {},
   "outputs": [
    {
     "data": {
      "text/plain": [
       "(140, 7)"
      ]
     },
     "execution_count": 45,
     "metadata": {},
     "output_type": "execute_result"
    }
   ],
   "source": [
    "final_data.shape"
   ]
  },
  {
   "cell_type": "code",
   "execution_count": 46,
   "metadata": {},
   "outputs": [],
   "source": [
    "pd.set_option('display.max_rows',None)"
   ]
  },
  {
   "cell_type": "code",
   "execution_count": 47,
   "metadata": {},
   "outputs": [
    {
     "data": {
      "text/plain": [
       "max_infection_rate              float64\n",
       "GDP per capita                  float64\n",
       "Social support                  float64\n",
       "Healthy life expectancy         float64\n",
       "Freedom to make life choices    float64\n",
       "latitude                        float64\n",
       "longitude                       float64\n",
       "dtype: object"
      ]
     },
     "execution_count": 47,
     "metadata": {},
     "output_type": "execute_result"
    }
   ],
   "source": [
    "final_data.dtypes\n"
   ]
  },
  {
   "cell_type": "code",
   "execution_count": 48,
   "metadata": {},
   "outputs": [
    {
     "data": {
      "text/html": [
       "<div>\n",
       "<style scoped>\n",
       "    .dataframe tbody tr th:only-of-type {\n",
       "        vertical-align: middle;\n",
       "    }\n",
       "\n",
       "    .dataframe tbody tr th {\n",
       "        vertical-align: top;\n",
       "    }\n",
       "\n",
       "    .dataframe thead th {\n",
       "        text-align: right;\n",
       "    }\n",
       "</style>\n",
       "<table border=\"1\" class=\"dataframe\">\n",
       "  <thead>\n",
       "    <tr style=\"text-align: right;\">\n",
       "      <th></th>\n",
       "      <th>max_infection_rate</th>\n",
       "      <th>GDP per capita</th>\n",
       "      <th>Social support</th>\n",
       "      <th>Healthy life expectancy</th>\n",
       "      <th>Freedom to make life choices</th>\n",
       "      <th>latitude</th>\n",
       "      <th>longitude</th>\n",
       "    </tr>\n",
       "    <tr>\n",
       "      <th>Country/Region</th>\n",
       "      <th></th>\n",
       "      <th></th>\n",
       "      <th></th>\n",
       "      <th></th>\n",
       "      <th></th>\n",
       "      <th></th>\n",
       "      <th></th>\n",
       "    </tr>\n",
       "  </thead>\n",
       "  <tbody>\n",
       "    <tr>\n",
       "      <th>Afghanistan</th>\n",
       "      <td>915.0</td>\n",
       "      <td>0.350</td>\n",
       "      <td>0.517</td>\n",
       "      <td>0.361</td>\n",
       "      <td>0.000</td>\n",
       "      <td>33.939110</td>\n",
       "      <td>67.709953</td>\n",
       "    </tr>\n",
       "    <tr>\n",
       "      <th>Albania</th>\n",
       "      <td>141.0</td>\n",
       "      <td>0.947</td>\n",
       "      <td>0.848</td>\n",
       "      <td>0.874</td>\n",
       "      <td>0.383</td>\n",
       "      <td>41.153332</td>\n",
       "      <td>20.168331</td>\n",
       "    </tr>\n",
       "    <tr>\n",
       "      <th>Algeria</th>\n",
       "      <td>675.0</td>\n",
       "      <td>1.002</td>\n",
       "      <td>1.160</td>\n",
       "      <td>0.785</td>\n",
       "      <td>0.086</td>\n",
       "      <td>28.033886</td>\n",
       "      <td>1.659626</td>\n",
       "    </tr>\n",
       "    <tr>\n",
       "      <th>Argentina</th>\n",
       "      <td>7663.0</td>\n",
       "      <td>1.092</td>\n",
       "      <td>1.432</td>\n",
       "      <td>0.881</td>\n",
       "      <td>0.471</td>\n",
       "      <td>-38.416097</td>\n",
       "      <td>-63.616672</td>\n",
       "    </tr>\n",
       "    <tr>\n",
       "      <th>Armenia</th>\n",
       "      <td>771.0</td>\n",
       "      <td>0.850</td>\n",
       "      <td>1.055</td>\n",
       "      <td>0.815</td>\n",
       "      <td>0.283</td>\n",
       "      <td>40.069099</td>\n",
       "      <td>45.038189</td>\n",
       "    </tr>\n",
       "  </tbody>\n",
       "</table>\n",
       "</div>"
      ],
      "text/plain": [
       "                max_infection_rate  GDP per capita  Social support  \\\n",
       "Country/Region                                                       \n",
       "Afghanistan                  915.0           0.350           0.517   \n",
       "Albania                      141.0           0.947           0.848   \n",
       "Algeria                      675.0           1.002           1.160   \n",
       "Argentina                   7663.0           1.092           1.432   \n",
       "Armenia                      771.0           0.850           1.055   \n",
       "\n",
       "                Healthy life expectancy  Freedom to make life choices  \\\n",
       "Country/Region                                                          \n",
       "Afghanistan                       0.361                         0.000   \n",
       "Albania                           0.874                         0.383   \n",
       "Algeria                           0.785                         0.086   \n",
       "Argentina                         0.881                         0.471   \n",
       "Armenia                           0.815                         0.283   \n",
       "\n",
       "                 latitude  longitude  \n",
       "Country/Region                        \n",
       "Afghanistan     33.939110  67.709953  \n",
       "Albania         41.153332  20.168331  \n",
       "Algeria         28.033886   1.659626  \n",
       "Argentina      -38.416097 -63.616672  \n",
       "Armenia         40.069099  45.038189  "
      ]
     },
     "execution_count": 48,
     "metadata": {},
     "output_type": "execute_result"
    }
   ],
   "source": [
    "final_data.head()"
   ]
  },
  {
   "cell_type": "code",
   "execution_count": 49,
   "metadata": {},
   "outputs": [
    {
     "data": {
      "text/plain": [
       "[[33.93911, 67.709953],\n",
       " [41.153332, 20.168331],\n",
       " [28.033886, 1.6596259999999998],\n",
       " [-38.416097, -63.616671999999994],\n",
       " [40.069099, 45.038189],\n",
       " [-25.274398, 133.775136],\n",
       " [47.516231, 14.550072],\n",
       " [40.143105, 47.576927000000005],\n",
       " [25.930414000000003, 50.637772],\n",
       " [23.684994, 90.35633100000001],\n",
       " [53.709807, 27.953389],\n",
       " [50.503887, 4.469936],\n",
       " [9.30769, 2.315834],\n",
       " [27.514162, 90.433601],\n",
       " [-16.290154, -63.588653],\n",
       " [43.915886, 17.679076000000002],\n",
       " [-22.328474, 24.684866],\n",
       " [-14.235004, -51.92528],\n",
       " [42.733883, 25.48583],\n",
       " [12.238333, -1.561593],\n",
       " [-3.3730559999999996, 29.918885999999997],\n",
       " [12.565679, 104.990963],\n",
       " [7.369722, 12.354722],\n",
       " [56.130366, -106.34677099999999],\n",
       " [6.611111, 20.939444],\n",
       " [15.454166, 18.732207],\n",
       " [-35.675146999999996, -71.542969],\n",
       " [35.86166, 104.195397],\n",
       " [4.570868, -74.297333],\n",
       " [-11.875001, 43.872219],\n",
       " [9.748917, -83.753428],\n",
       " [45.1, 15.2],\n",
       " [35.126413, 33.429859],\n",
       " [56.26392, 9.501785],\n",
       " [18.735692999999998, -70.162651],\n",
       " [-1.8312389999999998, -78.183406],\n",
       " [26.820553000000004, 30.802497999999996],\n",
       " [13.794185, -88.89653],\n",
       " [58.595271999999994, 25.013607],\n",
       " [9.145, 40.489672999999996],\n",
       " [61.92411, 25.748151],\n",
       " [46.227638, 2.213749],\n",
       " [-0.803689, 11.609444],\n",
       " [13.443182, -15.310139000000001],\n",
       " [42.315407, 43.356891999999995],\n",
       " [51.165690999999995, 10.451526],\n",
       " [7.946527000000001, -1.0231940000000002],\n",
       " [39.074208, 21.824312],\n",
       " [15.783470999999999, -90.23075899999999],\n",
       " [9.945587, -9.696645],\n",
       " [18.971187, -72.28521500000001],\n",
       " [15.199998999999998, -86.241905],\n",
       " [47.162494, 19.503304],\n",
       " [64.96305100000001, -19.020835],\n",
       " [20.593684, 78.96288],\n",
       " [-0.789275, 113.921327],\n",
       " [32.427908, 53.68804599999999],\n",
       " [33.223191, 43.679291],\n",
       " [53.41291, -8.243889999999999],\n",
       " [31.046051000000002, 34.851612],\n",
       " [41.87194, 12.56738],\n",
       " [18.109581, -77.297508],\n",
       " [36.204824, 138.252924],\n",
       " [30.585164000000002, 36.238414],\n",
       " [48.019573, 66.923684],\n",
       " [-0.023559, 37.906193],\n",
       " [42.602636, 20.902977],\n",
       " [29.311659999999996, 47.481766],\n",
       " [41.20438, 74.766098],\n",
       " [19.856270000000002, 102.495496],\n",
       " [56.879635, 24.603189],\n",
       " [33.854721000000005, 35.862285],\n",
       " [-29.609988, 28.233608],\n",
       " [6.4280550000000005, -9.429499],\n",
       " [26.3351, 17.228331],\n",
       " [55.169438, 23.881275],\n",
       " [49.815273, 6.129583],\n",
       " [-18.766947000000002, 46.869107],\n",
       " [-13.254307999999998, 34.301525],\n",
       " [4.210483999999999, 101.97576600000001],\n",
       " [17.570692, -3.9961660000000006],\n",
       " [35.937496, 14.375416],\n",
       " [21.00789, -10.940835],\n",
       " [-20.348404000000002, 57.552152],\n",
       " [23.634501, -102.552784],\n",
       " [47.411631, 28.369884999999996],\n",
       " [46.862496, 103.84665600000001],\n",
       " [42.708678000000006, 19.37439],\n",
       " [31.791702, -7.09262],\n",
       " [-18.665695, 35.529562],\n",
       " [-22.957639999999998, 18.49041],\n",
       " [28.394857000000002, 84.12400799999999],\n",
       " [52.132633, 5.291266],\n",
       " [-40.900557, 174.88597099999998],\n",
       " [12.865416, -85.207229],\n",
       " [17.607789, 8.081666],\n",
       " [9.081999, 8.675277000000001],\n",
       " [60.472024, 8.468946],\n",
       " [30.375321000000003, 69.345116],\n",
       " [8.537981, -80.782127],\n",
       " [-23.442503, -58.44383199999999],\n",
       " [-9.189967, -75.015152],\n",
       " [12.879721, 121.77401699999999],\n",
       " [51.919438, 19.145135999999997],\n",
       " [39.399871999999995, -8.224454],\n",
       " [25.354826, 51.183884],\n",
       " [45.943160999999996, 24.96676],\n",
       " [61.52401, 105.31875600000001],\n",
       " [-1.940278, 29.873888],\n",
       " [23.885942, 45.079162],\n",
       " [14.497401000000002, -14.452361999999999],\n",
       " [44.016521000000004, 21.005859],\n",
       " [8.460555000000001, -11.779889],\n",
       " [1.352083, 103.819836],\n",
       " [48.669026, 19.699023999999998],\n",
       " [46.151241, 14.995463],\n",
       " [5.152149, 46.199616],\n",
       " [-30.559482, 22.937506],\n",
       " [40.463667, -3.7492199999999998],\n",
       " [7.873054, 80.77179699999999],\n",
       " [60.128161, 18.643501],\n",
       " [46.818188, 8.227511999999999],\n",
       " [34.802075, 38.996815000000005],\n",
       " [38.861034000000004, 71.276093],\n",
       " [-6.369028, 34.888822],\n",
       " [15.870032, 100.992541],\n",
       " [8.619543, 0.824782],\n",
       " [33.886917, 9.537499],\n",
       " [38.963745, 35.243322],\n",
       " [1.373333, 32.290275],\n",
       " [48.379433, 31.16558],\n",
       " [23.424076, 53.847818000000004],\n",
       " [55.378051, -3.435973],\n",
       " [-32.522779, -55.765834999999996],\n",
       " [41.377491, 64.585262],\n",
       " [6.42375, -66.58973],\n",
       " [14.058323999999999, 108.277199],\n",
       " [15.552726999999999, 48.516388],\n",
       " [-13.133897, 27.849332],\n",
       " [-19.015438, 29.154857]]"
      ]
     },
     "execution_count": 49,
     "metadata": {},
     "output_type": "execute_result"
    }
   ],
   "source": [
    "location = final_data[['latitude','longitude']]\n",
    "loc = location.values.tolist()\n",
    "loc"
   ]
  },
  {
   "cell_type": "code",
   "execution_count": 50,
   "metadata": {},
   "outputs": [
    {
     "data": {
      "text/plain": [
       "140"
      ]
     },
     "execution_count": 50,
     "metadata": {},
     "output_type": "execute_result"
    }
   ],
   "source": [
    "final_data.index.nunique()"
   ]
  },
  {
   "cell_type": "code",
   "execution_count": 51,
   "metadata": {},
   "outputs": [
    {
     "data": {
      "text/plain": [
       "(140, 7)"
      ]
     },
     "execution_count": 51,
     "metadata": {},
     "output_type": "execute_result"
    }
   ],
   "source": [
    "final_data.shape"
   ]
  },
  {
   "cell_type": "markdown",
   "metadata": {},
   "source": [
    "# visualization using Folium "
   ]
  },
  {
   "cell_type": "code",
   "execution_count": 52,
   "metadata": {},
   "outputs": [
    {
     "data": {
      "text/html": [
       "<iframe src=\"about:blank\" width=\"850\" height=\"350\"style=\"border:none !important;\" data-html=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 onload=\"this.contentDocument.open();this.contentDocument.write(atob(this.getAttribute('data-html')));this.contentDocument.close();\" \"allowfullscreen\" \"webkitallowfullscreen\" \"mozallowfullscreen\"></iframe>"
      ],
      "text/plain": [
       "<folium.folium.Map at 0x1959e0e63c8>"
      ]
     },
     "execution_count": 52,
     "metadata": {},
     "output_type": "execute_result"
    }
   ],
   "source": [
    "from branca.element import Figure\n",
    "fig=Figure(width=850,height=350)\n",
    "m1=folium.Map(zoom_start = 20,tiles ='stamenterrain' )\n",
    "fig.add_child(m1)\n",
    "folium.TileLayer('Stamen Terrain').add_to(m1)\n",
    "folium.TileLayer('Stamen Toner').add_to(m1)\n",
    "folium.TileLayer('Stamen Water Color').add_to(m1)\n",
    "folium.TileLayer('cartodbdark_matter').add_to(m1)\n",
    "folium.LayerControl().add_to(m1) #layer control provides the icon in top right corner\n",
    "for i in range(0, len(loc)):\n",
    "    folium.Marker(loc[i], popup=\"<strong>\"+final_data.iloc[i].name+\"</strong>\"+\n",
    "        \"<li>max_infection_rate:\"+str(final_data.iloc[i]['max_infection_rate'])+\"</li>\"+\n",
    "        \"<li>Social support:\"+str(final_data.iloc[i]['Social support'])+\"</li>\"+\n",
    "        \"<li>Freedom to make life choices:\"+str(final_data.iloc[i]['Freedom to make life choices'])+\"</li>\"+\n",
    "        \"<li>Healthy life expectancy:\"+str(final_data.iloc[i]['Healthy life expectancy'])+\"</li>\",tooltip ='<strong style=\"color:red;\"><li style = \"color:black;\">Country name:</li>'+final_data.index[i]+'</strong>' +'<li>click to see more details</li>',  \n",
    "        icon=folium.Icon(color='darkred', icon_color='white', icon='heartbeat', angle=10, prefix='fa'),\n",
    "        draggable = True).add_to(m1)\n",
    "\n",
    "m1"
   ]
  },
  {
   "cell_type": "markdown",
   "metadata": {},
   "source": [
    "# section 5"
   ]
  },
  {
   "cell_type": "code",
   "execution_count": 53,
   "metadata": {
    "scrolled": true
   },
   "outputs": [
    {
     "data": {
      "text/html": [
       "<div>\n",
       "<style scoped>\n",
       "    .dataframe tbody tr th:only-of-type {\n",
       "        vertical-align: middle;\n",
       "    }\n",
       "\n",
       "    .dataframe tbody tr th {\n",
       "        vertical-align: top;\n",
       "    }\n",
       "\n",
       "    .dataframe thead th {\n",
       "        text-align: right;\n",
       "    }\n",
       "</style>\n",
       "<table border=\"1\" class=\"dataframe\">\n",
       "  <thead>\n",
       "    <tr style=\"text-align: right;\">\n",
       "      <th></th>\n",
       "      <th>max_infection_rate</th>\n",
       "      <th>GDP per capita</th>\n",
       "      <th>Social support</th>\n",
       "      <th>Healthy life expectancy</th>\n",
       "      <th>Freedom to make life choices</th>\n",
       "    </tr>\n",
       "    <tr>\n",
       "      <th>Country/Region</th>\n",
       "      <th></th>\n",
       "      <th></th>\n",
       "      <th></th>\n",
       "      <th></th>\n",
       "      <th></th>\n",
       "    </tr>\n",
       "  </thead>\n",
       "  <tbody>\n",
       "    <tr>\n",
       "      <th>Afghanistan</th>\n",
       "      <td>915.0</td>\n",
       "      <td>0.350</td>\n",
       "      <td>0.517</td>\n",
       "      <td>0.361</td>\n",
       "      <td>0.000</td>\n",
       "    </tr>\n",
       "    <tr>\n",
       "      <th>Albania</th>\n",
       "      <td>141.0</td>\n",
       "      <td>0.947</td>\n",
       "      <td>0.848</td>\n",
       "      <td>0.874</td>\n",
       "      <td>0.383</td>\n",
       "    </tr>\n",
       "    <tr>\n",
       "      <th>Algeria</th>\n",
       "      <td>675.0</td>\n",
       "      <td>1.002</td>\n",
       "      <td>1.160</td>\n",
       "      <td>0.785</td>\n",
       "      <td>0.086</td>\n",
       "    </tr>\n",
       "  </tbody>\n",
       "</table>\n",
       "</div>"
      ],
      "text/plain": [
       "                max_infection_rate  GDP per capita  Social support  \\\n",
       "Country/Region                                                       \n",
       "Afghanistan                  915.0           0.350           0.517   \n",
       "Albania                      141.0           0.947           0.848   \n",
       "Algeria                      675.0           1.002           1.160   \n",
       "\n",
       "                Healthy life expectancy  Freedom to make life choices  \n",
       "Country/Region                                                         \n",
       "Afghanistan                       0.361                         0.000  \n",
       "Albania                           0.874                         0.383  \n",
       "Algeria                           0.785                         0.086  "
      ]
     },
     "execution_count": 53,
     "metadata": {},
     "output_type": "execute_result"
    }
   ],
   "source": [
    "_indi = final_data.drop(['latitude','longitude'],axis = 1)\n",
    "_indi.head(3)"
   ]
  },
  {
   "cell_type": "code",
   "execution_count": 54,
   "metadata": {},
   "outputs": [
    {
     "data": {
      "image/png": "[encoded data removed]",
      "text/plain": [
       "<Figure size 432x288 with 1 Axes>"
      ]
     },
     "metadata": {
      "needs_background": "light"
     },
     "output_type": "display_data"
    }
   ],
   "source": [
    "sns.scatterplot(data =_indi, x=\"GDP per capita\", y=\"max_infection_rate\"); #using scatterplot to define relation between two variables"
   ]
  },
  {
   "cell_type": "code",
   "execution_count": 55,
   "metadata": {},
   "outputs": [
    {
     "data": {
      "image/png": "[encoded data removed]",
      "text/plain": [
       "<Figure size 432x288 with 1 Axes>"
      ]
     },
     "metadata": {
      "needs_background": "light"
     },
     "output_type": "display_data"
    }
   ],
   "source": [
    "sns.scatterplot(data =_indi, x=\"Social support\", y=\"max_infection_rate\"); #using scatterplot to define relation between two variables"
   ]
  },
  {
   "cell_type": "code",
   "execution_count": 56,
   "metadata": {},
   "outputs": [
    {
     "data": {
      "image/png": "[encoded data removed]",
      "text/plain": [
       "<Figure size 432x288 with 1 Axes>"
      ]
     },
     "metadata": {
      "needs_background": "light"
     },
     "output_type": "display_data"
    }
   ],
   "source": [
    "sns.scatterplot(data =_indi, x=\"Healthy life expectancy\", y=\"max_infection_rate\"); #using scatterplot to define relation between two variables"
   ]
  },
  {
   "cell_type": "code",
   "execution_count": 57,
   "metadata": {},
   "outputs": [
    {
     "data": {
      "image/png": "[encoded data removed]",
      "text/plain": [
       "<Figure size 432x288 with 1 Axes>"
      ]
     },
     "metadata": {
      "needs_background": "light"
     },
     "output_type": "display_data"
    }
   ],
   "source": [
    "sns.scatterplot(data =_indi, x=\"Freedom to make life choices\", y=\"max_infection_rate\"); #using scatterplot to define relation between two variables"
   ]
  },
  {
   "cell_type": "code",
   "execution_count": null,
   "metadata": {},
   "outputs": [],
   "source": []
  }
 ],
 "metadata": {
  "kernelspec": {
   "display_name": "Python 3",
   "language": "python",
   "name": "python3"
  },
  "language_info": {
   "codemirror_mode": {
    "name": "ipython",
    "version": 3
   },
   "file_extension": ".py",
   "mimetype": "text/x-python",
   "name": "python",
   "nbconvert_exporter": "python",
   "pygments_lexer": "ipython3",
   "version": "3.7.6"
  }
 },
 "nbformat": 4,
 "nbformat_minor": 4
}
